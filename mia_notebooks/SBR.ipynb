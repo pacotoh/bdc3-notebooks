{
  "nbformat": 4,
  "nbformat_minor": 0,
  "metadata": {
    "colab": {
      "provenance": []
    },
    "kernelspec": {
      "name": "python3",
      "display_name": "Python 3"
    },
    "language_info": {
      "name": "python"
    }
  },
  "cells": [
    {
      "cell_type": "markdown",
      "source": [
        "# Sistemas Basados en Reglas usando Experta\n",
        "\n",
        "En primer lugar, debemos instalar la librería \"experta\" (fork de pyknow).\n",
        "\n",
        "La documentación oficial de la librería se puede encontrar en:\n",
        "https://experta.readthedocs.io/en/latest/index.html\n",
        "\n",
        "Esta librería está basada en el lenguaje de programación CLIPS, escrito en C."
      ],
      "metadata": {
        "id": "o3UPneuP--cf"
      }
    },
    {
      "cell_type": "code",
      "execution_count": null,
      "metadata": {
        "colab": {
          "base_uri": "https://localhost:8080/"
        },
        "id": "5jsRS3gv-vOU",
        "outputId": "f2015b77-4e61-43b0-b73f-7b0ae230b70f"
      },
      "outputs": [
        {
          "output_type": "stream",
          "name": "stdout",
          "text": [
            "Looking in indexes: https://pypi.org/simple, https://us-python.pkg.dev/colab-wheels/public/simple/\n",
            "Collecting experta\n",
            "  Downloading experta-1.9.4-py3-none-any.whl (35 kB)\n",
            "Collecting schema==0.6.7\n",
            "  Downloading schema-0.6.7-py2.py3-none-any.whl (14 kB)\n",
            "Collecting frozendict==1.2\n",
            "  Downloading frozendict-1.2.tar.gz (2.6 kB)\n",
            "  Preparing metadata (setup.py) ... \u001b[?25l\u001b[?25hdone\n",
            "Building wheels for collected packages: frozendict\n",
            "  Building wheel for frozendict (setup.py) ... \u001b[?25l\u001b[?25hdone\n",
            "  Created wheel for frozendict: filename=frozendict-1.2-py3-none-any.whl size=3165 sha256=8694eca388a7bd6b2ffd73e86950121681b4279d33ea6b122289e8ad32cddb9f\n",
            "  Stored in directory: /root/.cache/pip/wheels/9b/9b/56/5713233cf7226423ab6c58c08081551a301b5863e343ba053c\n",
            "Successfully built frozendict\n",
            "Installing collected packages: schema, frozendict, experta\n",
            "Successfully installed experta-1.9.4 frozendict-1.2 schema-0.6.7\n"
          ]
        }
      ],
      "source": [
        "pip install experta"
      ]
    },
    {
      "cell_type": "markdown",
      "source": [
        "# Hechos (Facts)\n",
        "\n",
        "En esta sección aprenderemos a crear Hechos de nuestra BH (base de hechos).\n",
        "Para ello, crearemos objetos de la clase Fact."
      ],
      "metadata": {
        "id": "c75GR4NnAC_x"
      }
    },
    {
      "cell_type": "code",
      "source": [
        "from experta import *"
      ],
      "metadata": {
        "id": "9sr1PgLp-xL9"
      },
      "execution_count": null,
      "outputs": []
    },
    {
      "cell_type": "code",
      "source": [
        "f = Fact(a=1, b=2)\n",
        "print(f['a'], f['b'])\n",
        "f"
      ],
      "metadata": {
        "colab": {
          "base_uri": "https://localhost:8080/"
        },
        "id": "d1NEtuFwDbXe",
        "outputId": "1e7d1db5-d362-4d66-c9c2-d2d84894dadb"
      },
      "execution_count": null,
      "outputs": [
        {
          "output_type": "stream",
          "name": "stdout",
          "text": [
            "1 2\n"
          ]
        },
        {
          "output_type": "execute_result",
          "data": {
            "text/plain": [
              "Fact(a=1, b=2)"
            ]
          },
          "metadata": {},
          "execution_count": 3
        }
      ]
    },
    {
      "cell_type": "code",
      "source": [
        "class Alert(Fact):\n",
        "  \"\"\"The alert level.\"\"\"\n",
        "  pass\n",
        "\n",
        "class Status(Fact):\n",
        "  \"\"\"The system status.\"\"\"\n",
        "  pass\n",
        "\n",
        "f1 = Alert('red')\n",
        "f2 = Status('critical')"
      ],
      "metadata": {
        "id": "OB0oJlLdCtIq"
      },
      "execution_count": null,
      "outputs": []
    },
    {
      "cell_type": "code",
      "source": [
        "f1"
      ],
      "metadata": {
        "colab": {
          "base_uri": "https://localhost:8080/"
        },
        "id": "Mgc9G8a9DPAG",
        "outputId": "10937e68-e343-41dd-9f4f-c455f2050d03"
      },
      "execution_count": null,
      "outputs": [
        {
          "output_type": "execute_result",
          "data": {
            "text/plain": [
              "Alert('red')"
            ]
          },
          "metadata": {},
          "execution_count": 5
        }
      ]
    },
    {
      "cell_type": "markdown",
      "source": [
        "## Reglas (rules)\n",
        "\n",
        "Las reglas tienen dos partes:\n",
        "- Parte izquierda (LHS) condiciones para ejecutar la regla.\n",
        "- Parte derecha (RHS) acciones que se ejecutan cuando se cumple la parte LHS."
      ],
      "metadata": {
        "id": "PWRmQO84EOOm"
      }
    },
    {
      "cell_type": "code",
      "source": [
        "# En nuestro motor de inferencia introducimos una regla match_aprobado\n",
        "class Notas(KnowledgeEngine):\n",
        "  @Rule(Fact(nota='aprobado'))\n",
        "  def match_aprobado(self):\n",
        "    print(\"Aprobado!\")"
      ],
      "metadata": {
        "id": "VTMx6nl6DP-0"
      },
      "execution_count": null,
      "outputs": []
    },
    {
      "cell_type": "markdown",
      "source": [
        "## Funcionamiento del motor de inferencia\n",
        "\n",
        "1. Se instancia el motor (KnowledgeEngine)\n",
        "2. Se llama al método reset\n",
        "\n",
        "\n",
        "> *   Se declara el hecho InitialFact\n",
        "> *   Se declaran todos los métodos del método decorado por @DefFacts\n",
        "\n",
        "\n",
        "3. Se llama al método run para comenzar la ejecución"
      ],
      "metadata": {
        "id": "BSFHsoHXOiVk"
      }
    },
    {
      "cell_type": "code",
      "source": [
        "engine = Notas()\n",
        "engine.reset()\n",
        "print(\"Antes: \", engine.facts)\n",
        "engine.declare(Fact(nota='aprobado'))\n",
        "print(\"Después: \", engine.facts)\n",
        "engine.run()"
      ],
      "metadata": {
        "colab": {
          "base_uri": "https://localhost:8080/"
        },
        "id": "Rbpmc6YPFgg_",
        "outputId": "bd649ebd-b018-4a27-8aef-419b3f0f7d14"
      },
      "execution_count": null,
      "outputs": [
        {
          "output_type": "stream",
          "name": "stdout",
          "text": [
            "Antes:  <f-0>: InitialFact()\n",
            "Después:  <f-0>: InitialFact()\n",
            "<f-1>: Fact(nota='aprobado')\n",
            "Aprobado!\n"
          ]
        }
      ]
    },
    {
      "cell_type": "code",
      "source": [
        "# Para obtener la base de hechos\n",
        "engine.facts"
      ],
      "metadata": {
        "colab": {
          "base_uri": "https://localhost:8080/"
        },
        "id": "-QHUVtePGLMI",
        "outputId": "58c92073-8ef7-4c50-d8b9-0388149335a8"
      },
      "execution_count": null,
      "outputs": [
        {
          "output_type": "execute_result",
          "data": {
            "text/plain": [
              "FactList([(0, InitialFact()), (1, Fact(nota='aprobado'))])"
            ]
          },
          "metadata": {},
          "execution_count": 10
        }
      ]
    },
    {
      "cell_type": "markdown",
      "source": [
        "## DefFacts\n",
        "\n",
        "Son hechos que deben estar presentes al iniciar el sistema basados en reglas para que este 'arranque'."
      ],
      "metadata": {
        "id": "nxRnuZp782sr"
      }
    },
    {
      "cell_type": "code",
      "source": [
        "class Test(KnowledgeEngine):\n",
        "  @DefFacts()\n",
        "  def start_data(self):\n",
        "    yield Fact(color='blue')\n",
        "    yield Fact(size='large')\n",
        "\n",
        "  @Rule(Fact(size='small'))\n",
        "  def now_is_small(self):\n",
        "    print('Now is small!')"
      ],
      "metadata": {
        "id": "2_YnDQgf-LR2"
      },
      "execution_count": null,
      "outputs": []
    },
    {
      "cell_type": "code",
      "source": [
        "test = Test()\n",
        "test.reset()\n",
        "test.declare(Fact(size='small'))\n",
        "test.run()"
      ],
      "metadata": {
        "colab": {
          "base_uri": "https://localhost:8080/"
        },
        "id": "YTEUldPw_CH5",
        "outputId": "83918a23-0379-4ef9-94f3-476ce639faa2"
      },
      "execution_count": null,
      "outputs": [
        {
          "output_type": "stream",
          "name": "stdout",
          "text": [
            "Now is small!\n"
          ]
        }
      ]
    },
    {
      "cell_type": "code",
      "source": [
        "test.facts"
      ],
      "metadata": {
        "colab": {
          "base_uri": "https://localhost:8080/"
        },
        "id": "kQoanHP8_Q0N",
        "outputId": "f08ca6bc-3cb5-4cfc-f472-4dd00db8e177"
      },
      "execution_count": null,
      "outputs": [
        {
          "output_type": "execute_result",
          "data": {
            "text/plain": [
              "FactList([(0, InitialFact()),\n",
              "          (1, Fact(color='blue')),\n",
              "          (2, Fact(size='large')),\n",
              "          (3, Fact(size='small'))])"
            ]
          },
          "metadata": {},
          "execution_count": 7
        }
      ]
    },
    {
      "cell_type": "markdown",
      "source": [
        "## DefFacts vs declare\n",
        "\n",
        "Ambos son usados para introducir hechos en la Base de Hechos, pero la diferencia es la siguiente:\n",
        "\n",
        "- declare añade el hecho a la memoria directamente\n",
        "- DefFacts se usa para declarar generadores, que serán creados por la llamada al método reset. A partir de esta llamada, todos los hechos generados en DefFacts serán añadidos a memoria usando declare"
      ],
      "metadata": {
        "id": "9XZWgK64PgCP"
      }
    },
    {
      "cell_type": "markdown",
      "source": [
        "## Ejemplo de uso de reglas con Rule y DefFacts\n"
      ],
      "metadata": {
        "id": "LnmY0rOlCFdG"
      }
    },
    {
      "cell_type": "code",
      "source": [
        "from experta import *\n",
        "\n",
        "EDAD_LIMITE = 18\n",
        "\n",
        "class Registro(KnowledgeEngine):\n",
        "  @DefFacts()\n",
        "  def inicializacion(self):\n",
        "    yield Fact(accion=\"inicio\")\n",
        "  \n",
        "  @Rule(Fact(accion='inicio'),\n",
        "  NOT(Fact(edad=W())))\n",
        "  def preguntar_edad(self):\n",
        "    self.declare(Fact(edad=int(input(\"¿Cuál es tu edad? \"))))\n",
        "  \n",
        "  @Rule(Fact(accion='inicio'),\n",
        "  NOT(Fact(nombre=W())))\n",
        "  def preguntar_nombre(self):\n",
        "    self.declare(Fact(nombre=input(\"¿Cuál es tu nombre? \")))\n",
        "  \n",
        "  @Rule(Fact(accion='inicio'),\n",
        "  Fact(nombre=MATCH.nombre),\n",
        "  Fact(edad=MATCH.edad & GE(EDAD_LIMITE)))\n",
        "  def bienvenida(self, nombre, edad):\n",
        "    print(\"¡Bienvenido %s! Tu edad es %s\" % (nombre, edad))\n",
        "\n",
        "  @Rule(Fact(accion='inicio'),\n",
        "  Fact(nombre=MATCH.nombre),\n",
        "  Fact(edad=MATCH.edad & LT(EDAD_LIMITE)))\n",
        "  def no_bienvenida(self, nombre, edad):\n",
        "    print(\"%s, tu edad es %s, no puedes hacer login\" % (nombre, edad))\n",
        "\n",
        "engine = Registro()\n",
        "engine.reset() # Prepare the engine for the execution.\n",
        "engine.run() # Run it!"
      ],
      "metadata": {
        "colab": {
          "base_uri": "https://localhost:8080/"
        },
        "id": "5_-E46aNCuhn",
        "outputId": "7af17774-af1b-4e7d-b5c8-b7f045fb586c"
      },
      "execution_count": null,
      "outputs": [
        {
          "output_type": "stream",
          "name": "stdout",
          "text": [
            "¿Cuál es tu edad? 21\n",
            "¿Cuál es tu nombre? Antonio\n",
            "¡Bienvenido Antonio! Tu edad es 21\n"
          ]
        }
      ]
    },
    {
      "cell_type": "markdown",
      "source": [
        "## Prioridad (salience)\n",
        "\n",
        "Es un valor por defecto en 0, que indica la prioridad de la regla en relación a las demás. Cuanto mayor sea el valor numérico de la regla, antes será lanzada.\n",
        "\n",
        "En el caso anterior en el que pedimos el nombre y la edad, vamos a darle mayor prioridad a una de las reglas, por ejemplo, **la regla del nombre**, para que siempre se nos solicite el nombre antes que la edad."
      ],
      "metadata": {
        "id": "Wp8_F9OvRB4T"
      }
    },
    {
      "cell_type": "code",
      "source": [
        "from experta import *\n",
        "\n",
        "EDAD_LIMITE = 18\n",
        "\n",
        "class Registro(KnowledgeEngine):\n",
        "  @DefFacts()\n",
        "  def inicializacion(self):\n",
        "    yield Fact(accion=\"inicio\")\n",
        "  \n",
        "  @Rule(Fact(accion='inicio'),\n",
        "  NOT(Fact(edad=W())), salience=0)\n",
        "  def preguntar_edad(self):\n",
        "    self.declare(Fact(edad=int(input(\"¿Cuál es tu edad? \"))))\n",
        "  \n",
        "  @Rule(Fact(accion='inicio'),\n",
        "  NOT(Fact(nombre=W())), salience=1)\n",
        "  def preguntar_nombre(self):\n",
        "    self.declare(Fact(nombre=input(\"¿Cuál es tu nombre? \")))\n",
        "  \n",
        "  @Rule(Fact(accion='inicio'),\n",
        "  Fact(nombre=MATCH.nombre),\n",
        "  Fact(edad=MATCH.edad & GE(EDAD_LIMITE)))\n",
        "  def bienvenida(self, nombre, edad):\n",
        "    print(\"¡Bienvenido %s! Tu edad es %s\" % (nombre, edad))\n",
        "\n",
        "  @Rule(Fact(accion='inicio'),\n",
        "  Fact(nombre=MATCH.nombre),\n",
        "  Fact(edad=MATCH.edad & LT(EDAD_LIMITE)))\n",
        "  def no_bienvenida(self, nombre, edad):\n",
        "    print(\"%s, tu edad es %s, no puedes hacer login\" % (nombre, edad))\n",
        "\n",
        "engine = Registro()\n",
        "engine.reset() # Prepare the engine for the execution.\n",
        "engine.run() # Run it!"
      ],
      "metadata": {
        "colab": {
          "base_uri": "https://localhost:8080/"
        },
        "id": "Dh4zP-TW81nJ",
        "outputId": "d87516a0-35fb-4225-890d-ca8199610d1e"
      },
      "execution_count": null,
      "outputs": [
        {
          "output_type": "stream",
          "name": "stdout",
          "text": [
            "¿Cuál es tu nombre? Pepe\n",
            "¿Cuál es tu edad? 120\n",
            "¡Bienvenido Pepe! Tu edad es 120\n"
          ]
        }
      ]
    },
    {
      "cell_type": "markdown",
      "source": [
        "## Modificando Facts\n",
        "\n",
        "Podemos realizar modificaciones en los hechos de la Base de Hechos aplicando los siguientes métodos:\n",
        "\n",
        "- declare: para añadir nuevos Hechos a la Base de Hechos.\n",
        "- retract: para eliminar Hechos de la Base de Hechos.\n",
        "- modify: para modificar Hechos ya existentes en la Base de Hechos.\n",
        "- duplicate: para añadir nuevos Hechos usando como plantilla Hechos que ya existan en la Base de Hechos."
      ],
      "metadata": {
        "id": "9l_c7rHn4bIT"
      }
    },
    {
      "cell_type": "code",
      "source": [
        "# Ejemplo del declare\n",
        "\n",
        "m_inf = KnowledgeEngine()\n",
        "m_inf.reset()\n",
        "m_inf.declare(Fact(nombre='Pepe'))\n",
        "\n",
        "m_inf.facts"
      ],
      "metadata": {
        "id": "efmJy4CgRpDt",
        "colab": {
          "base_uri": "https://localhost:8080/"
        },
        "outputId": "0f672da1-fa47-48bd-f567-8bce6c517ed7"
      },
      "execution_count": null,
      "outputs": [
        {
          "output_type": "execute_result",
          "data": {
            "text/plain": [
              "FactList([(0, InitialFact()), (1, Fact(nombre='Pepe'))])"
            ]
          },
          "metadata": {},
          "execution_count": 16
        }
      ]
    },
    {
      "cell_type": "code",
      "source": [
        "# Ejemplo del retract\n",
        "\n",
        "m_inf = KnowledgeEngine()\n",
        "m_inf.reset()\n",
        "m_inf.declare(Fact(nombre='Pepe'))\n",
        "m_inf.declare(Fact(edad=20))\n",
        "\n",
        "print('Hechos antes del retract: \\n', m_inf.facts)\n",
        "\n",
        "m_inf.retract(1)\n",
        "print('Hechos después del retract: \\n', m_inf.facts)\n",
        "\n",
        "m_inf.declare(Fact(localidad='Cartagena'))\n",
        "print('Hechos después del retract: \\n', m_inf.facts)"
      ],
      "metadata": {
        "colab": {
          "base_uri": "https://localhost:8080/"
        },
        "id": "QW9YWKqH5aTu",
        "outputId": "e8c1b939-30bb-4ef4-d7c0-b33cb091fd00"
      },
      "execution_count": null,
      "outputs": [
        {
          "output_type": "stream",
          "name": "stdout",
          "text": [
            "Hechos antes del retract: \n",
            " <f-0>: InitialFact()\n",
            "<f-1>: Fact(nombre='Pepe')\n",
            "<f-2>: Fact(edad=20)\n",
            "Hechos después del retract: \n",
            " <f-0>: InitialFact()\n",
            "<f-2>: Fact(edad=20)\n",
            "Hechos después del retract: \n",
            " <f-0>: InitialFact()\n",
            "<f-2>: Fact(edad=20)\n",
            "<f-3>: Fact(localidad='Cartagena')\n"
          ]
        }
      ]
    },
    {
      "cell_type": "code",
      "source": [
        "# Ejemplo del retract usando Facts en reglas\n",
        "\n",
        "class Test(KnowledgeEngine):\n",
        "  @DefFacts()\n",
        "  def start_data(self):\n",
        "    yield Fact(color='blue')\n",
        "    yield Fact(size='large')\n",
        "\n",
        "  @Rule(Fact(size='small'),\n",
        "        AS.f << Fact(size='large'))\n",
        "  def now_is_small(self, f):\n",
        "    self.retract(f)\n",
        "    print('Now is small!')"
      ],
      "metadata": {
        "id": "wR4P7ehA5_Rg"
      },
      "execution_count": null,
      "outputs": []
    },
    {
      "cell_type": "code",
      "source": [
        "test = Test()\n",
        "test.reset()\n",
        "print(test.facts)\n",
        "test.declare(Fact(size='small'))\n",
        "test.run()\n",
        "print(test.facts)"
      ],
      "metadata": {
        "colab": {
          "base_uri": "https://localhost:8080/"
        },
        "id": "42rW1YDS7IxU",
        "outputId": "85aa9d9d-b7e7-47d0-94dd-d51844b2512b"
      },
      "execution_count": null,
      "outputs": [
        {
          "output_type": "stream",
          "name": "stdout",
          "text": [
            "<f-0>: InitialFact()\n",
            "<f-1>: Fact(color='blue')\n",
            "<f-2>: Fact(size='large')\n",
            "Now is small!\n",
            "<f-0>: InitialFact()\n",
            "<f-1>: Fact(color='blue')\n",
            "<f-3>: Fact(size='small')\n"
          ]
        }
      ]
    },
    {
      "cell_type": "code",
      "source": [
        "# Ejemplo del modify\n",
        "\n",
        "test = Test()\n",
        "test.reset()\n",
        "\n",
        "print('Hechos antes del modify: \\n', test.facts)\n",
        "\n",
        "test.modify(test.facts[1], color='red')\n",
        "\n",
        "print('Hechos después del modify: \\n', test.facts)"
      ],
      "metadata": {
        "colab": {
          "base_uri": "https://localhost:8080/"
        },
        "id": "oN-62ukx7vXw",
        "outputId": "23ae407c-d4bf-45d1-f80d-f47d9f7c7230"
      },
      "execution_count": null,
      "outputs": [
        {
          "output_type": "stream",
          "name": "stdout",
          "text": [
            "Hechos antes del modify: \n",
            " <f-0>: InitialFact()\n",
            "<f-1>: Fact(color='blue')\n",
            "<f-2>: Fact(size='large')\n",
            "Hechos después del modify: \n",
            " <f-0>: InitialFact()\n",
            "<f-2>: Fact(size='large')\n",
            "<f-3>: Fact(color='red')\n"
          ]
        }
      ]
    },
    {
      "cell_type": "code",
      "source": [
        "# Ejemplo del modify usando Facts en reglas\n",
        "\n",
        "class Test(KnowledgeEngine):\n",
        "  @DefFacts()\n",
        "  def start_data(self):\n",
        "    yield Fact(color='blue')\n",
        "    yield Fact(size='large')\n",
        "\n",
        "  @Rule(Fact(size='small'),\n",
        "        AS.f << Fact(size='large'))\n",
        "  def change_size(self, f):\n",
        "    self.modify(f, size='small')\n",
        "    print('Now is small!')"
      ],
      "metadata": {
        "id": "ceWc_n9u9TSa"
      },
      "execution_count": null,
      "outputs": []
    },
    {
      "cell_type": "code",
      "source": [
        "test = Test()\n",
        "test.reset()\n",
        "print(test.facts)\n",
        "test.declare(Fact(size='small'))\n",
        "test.run()\n",
        "print(test.facts)"
      ],
      "metadata": {
        "colab": {
          "base_uri": "https://localhost:8080/"
        },
        "id": "PjCvklXS-bLv",
        "outputId": "8e46f71e-92ea-4258-8b94-549219d546c5"
      },
      "execution_count": null,
      "outputs": [
        {
          "output_type": "stream",
          "name": "stdout",
          "text": [
            "<f-0>: InitialFact()\n",
            "<f-1>: Fact(color='blue')\n",
            "<f-2>: Fact(size='large')\n",
            "Now is small!\n",
            "<f-0>: InitialFact()\n",
            "<f-1>: Fact(color='blue')\n",
            "<f-3>: Fact(size='small')\n"
          ]
        }
      ]
    },
    {
      "cell_type": "code",
      "source": [
        "# Ejemplo del duplicate\n",
        "\n",
        "test = Test()\n",
        "test.reset()\n",
        "\n",
        "print('Hechos antes del duplicate: \\n', test.facts)\n",
        "\n",
        "test.duplicate(test.facts[1], texture='clean')\n",
        "\n",
        "print('Hechos después del duplicate: \\n', test.facts)"
      ],
      "metadata": {
        "colab": {
          "base_uri": "https://localhost:8080/"
        },
        "id": "INpxUZhS-0wO",
        "outputId": "b46535bb-d1b8-4a14-b2d2-7fa095ba7cf2"
      },
      "execution_count": null,
      "outputs": [
        {
          "output_type": "stream",
          "name": "stdout",
          "text": [
            "Hechos antes del duplicate: \n",
            " <f-0>: InitialFact()\n",
            "<f-1>: Fact(color='blue')\n",
            "<f-2>: Fact(size='large')\n",
            "Hechos después del duplicate: \n",
            " <f-0>: InitialFact()\n",
            "<f-1>: Fact(color='blue')\n",
            "<f-2>: Fact(size='large')\n",
            "<f-3>: Fact(color='blue', texture='clean')\n"
          ]
        }
      ]
    }
  ]
}