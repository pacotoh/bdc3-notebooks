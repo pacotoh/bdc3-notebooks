{
  "nbformat": 4,
  "nbformat_minor": 0,
  "metadata": {
    "colab": {
      "provenance": []
    },
    "kernelspec": {
      "name": "python3",
      "display_name": "Python 3"
    },
    "language_info": {
      "name": "python"
    }
  },
  "cells": [
    {
      "cell_type": "markdown",
      "source": [
        "# Introducción a PySpark\n",
        "\n",
        "En este notebook se trabajarán algunas de las herramientas básicas de pyspark, como la creación de dataframes, el filtrado de datos y la realización de consultas SQL a los dataframes.\n"
      ],
      "metadata": {
        "id": "YKuRgWt5_VZ-"
      }
    },
    {
      "cell_type": "code",
      "execution_count": null,
      "metadata": {
        "id": "ZXS-3WOo3dPk",
        "colab": {
          "base_uri": "https://localhost:8080/"
        },
        "outputId": "48bfacb0-7630-498a-820b-86f4b79a203a"
      },
      "outputs": [
        {
          "output_type": "stream",
          "name": "stdout",
          "text": [
            "\u001b[2K     \u001b[90m━━━━━━━━━━━━━━━━━━━━━━━━━━━━━━━━━━━━━━━\u001b[0m \u001b[32m310.8/310.8 MB\u001b[0m \u001b[31m3.8 MB/s\u001b[0m eta \u001b[36m0:00:00\u001b[0m\n",
            "\u001b[?25h  Preparing metadata (setup.py) ... \u001b[?25l\u001b[?25hdone\n",
            "  Building wheel for pyspark (setup.py) ... \u001b[?25l\u001b[?25hdone\n"
          ]
        }
      ],
      "source": [
        "!pip install -q pyspark"
      ]
    },
    {
      "cell_type": "markdown",
      "source": [
        "# Spark\n",
        "\n",
        "Apache Spark es un framework Open source para procesamiento de datos a gran escala.\n",
        "\n",
        "https://spark.apache.org/docs/latest/"
      ],
      "metadata": {
        "id": "0G0JO12J8M1C"
      }
    },
    {
      "cell_type": "markdown",
      "source": [
        "# Características de Spark\n",
        "\n",
        "*    Computación en memoria principal\n",
        "*    Procesamiento distribuido usando paralelización\n",
        "*    Puede ser usado en variedad de clúster managers (Spark, Yarn, Mesos, etc)\n",
        "*    Tolerante a fallos\n",
        "*    Inmutable\n",
        "*    Lazy evaluation\n",
        "*    Cache & persistencia\n",
        "*    Inbuild-optimization usando DataFrames\n",
        "*    Soporta ANSI SQL"
      ],
      "metadata": {
        "id": "yMmrtNYr60pI"
      }
    },
    {
      "cell_type": "markdown",
      "source": [
        "# Ventajas de Spark\n",
        "\n",
        "* Spark es un motor de procesamiento distribuido de propósito general, en memoria y tolerante a fallos que permite procesar datos de forma eficiente y distribuida.\n",
        "* Las aplicaciones que se ejecutan en Spark son 100 veces más rápidas que los sistemas tradicionales.\n",
        "* Usando Spark podemos procesar datos de Hadoop HDFS, AWS S3, Databricks DBFS, Azure Blob Storage, y muchos sistemas de archivos.\n",
        "* Spark también se utiliza para procesar datos en tiempo real utilizando Streaming y Kafka.\n",
        "* Spark cuenta de forma nativa con bibliotecas de aprendizaje automático y gráficas."
      ],
      "metadata": {
        "id": "i6IenIpR7YKS"
      }
    },
    {
      "cell_type": "markdown",
      "source": [
        "## Configuración de PySpark\n",
        "\n",
        "Documentación: https://spark.apache.org/docs/latest/cluster-overview\n",
        "\n",
        "El Driver Program será un proceso que ejecutará el código de nuestra aplicación Spark, siendo el SparkContext el componente principal.\n",
        "\n",
        "El Cluster Manager es el encargado de manejar y hacer accesibles un conjunto de Executors, que tendrán varias tareas en ejecución de forma simultánea.\n",
        "\n",
        "Después de establecer la relación de Executors, el SparkContext se comunica directamente con dichos Executors."
      ],
      "metadata": {
        "id": "Ejgj1s4vL1kI"
      }
    },
    {
      "cell_type": "markdown",
      "source": [
        "![cluster-overview.png](data:image/png;base64,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)"
      ],
      "metadata": {
        "id": "hFXfF5W_fagE"
      }
    },
    {
      "cell_type": "markdown",
      "source": [
        "## SparkSession\n",
        "\n",
        "Una SparkSession es un punto de entrada a la funcionalidad de Spark. Nos proporciona soporte para realizar queries y leer datos de tablas."
      ],
      "metadata": {
        "id": "Nd-NA6ji_1lt"
      }
    },
    {
      "cell_type": "code",
      "source": [
        "# Creación de SparkSession y SparkContext\n",
        "\n",
        "from pyspark.sql import SparkSession\n",
        "from pyspark import SparkContext\n",
        "\n",
        "spark = SparkSession.builder\\\n",
        "        .master(\"local[*]\")\\\n",
        "        .appName(\"PySpark\")\\\n",
        "        .config('spark.ui.port', '4050')\\\n",
        "        .getOrCreate()\n",
        "\n",
        "sc = SparkContext.getOrCreate()"
      ],
      "metadata": {
        "id": "r6HZhhGA9S3p"
      },
      "execution_count": null,
      "outputs": []
    },
    {
      "cell_type": "code",
      "source": [
        "spark"
      ],
      "metadata": {
        "colab": {
          "base_uri": "https://localhost:8080/",
          "height": 219
        },
        "id": "H_3Tb7PXLmlv",
        "outputId": "2b21e9ce-5cf5-4f53-9c1c-e0617826479f"
      },
      "execution_count": null,
      "outputs": [
        {
          "output_type": "execute_result",
          "data": {
            "text/plain": [
              "<pyspark.sql.session.SparkSession at 0x7fbf8e745760>"
            ],
            "text/html": [
              "\n",
              "            <div>\n",
              "                <p><b>SparkSession - in-memory</b></p>\n",
              "                \n",
              "        <div>\n",
              "            <p><b>SparkContext</b></p>\n",
              "\n",
              "            <p><a href=\"http://8750b288fbbf:4050\">Spark UI</a></p>\n",
              "\n",
              "            <dl>\n",
              "              <dt>Version</dt>\n",
              "                <dd><code>v3.4.0</code></dd>\n",
              "              <dt>Master</dt>\n",
              "                <dd><code>local[*]</code></dd>\n",
              "              <dt>AppName</dt>\n",
              "                <dd><code>PySpark</code></dd>\n",
              "            </dl>\n",
              "        </div>\n",
              "        \n",
              "            </div>\n",
              "        "
            ]
          },
          "metadata": {},
          "execution_count": 3
        }
      ]
    },
    {
      "cell_type": "markdown",
      "source": [
        "## Ejemplo de uso de Dataframes en Spark"
      ],
      "metadata": {
        "id": "REoiENuUj9Ap"
      }
    },
    {
      "cell_type": "code",
      "source": [
        "file_path = './sample_data/california_housing_test.csv'\n",
        "df = spark.read.csv(file_path, inferSchema=True, header=True)"
      ],
      "metadata": {
        "id": "m-PfBM2n38Bz"
      },
      "execution_count": null,
      "outputs": []
    },
    {
      "cell_type": "code",
      "source": [
        "# Mostramos las primeras 10 filas\n",
        "df.show(10)"
      ],
      "metadata": {
        "colab": {
          "base_uri": "https://localhost:8080/"
        },
        "id": "LdHn7LRG4prv",
        "outputId": "a898f004-7fca-4d8e-b2b1-5ee07ebb2cf1"
      },
      "execution_count": null,
      "outputs": [
        {
          "output_type": "stream",
          "name": "stdout",
          "text": [
            "+---------+--------+------------------+-----------+--------------+----------+----------+-------------+------------------+\n",
            "|longitude|latitude|housing_median_age|total_rooms|total_bedrooms|population|households|median_income|median_house_value|\n",
            "+---------+--------+------------------+-----------+--------------+----------+----------+-------------+------------------+\n",
            "|  -122.05|   37.37|              27.0|     3885.0|         661.0|    1537.0|     606.0|       6.6085|          344700.0|\n",
            "|   -118.3|   34.26|              43.0|     1510.0|         310.0|     809.0|     277.0|        3.599|          176500.0|\n",
            "|  -117.81|   33.78|              27.0|     3589.0|         507.0|    1484.0|     495.0|       5.7934|          270500.0|\n",
            "|  -118.36|   33.82|              28.0|       67.0|          15.0|      49.0|      11.0|       6.1359|          330000.0|\n",
            "|  -119.67|   36.33|              19.0|     1241.0|         244.0|     850.0|     237.0|       2.9375|           81700.0|\n",
            "|  -119.56|   36.51|              37.0|     1018.0|         213.0|     663.0|     204.0|       1.6635|           67000.0|\n",
            "|  -121.43|   38.63|              43.0|     1009.0|         225.0|     604.0|     218.0|       1.6641|           67000.0|\n",
            "|  -120.65|   35.48|              19.0|     2310.0|         471.0|    1341.0|     441.0|        3.225|          166900.0|\n",
            "|  -122.84|    38.4|              15.0|     3080.0|         617.0|    1446.0|     599.0|       3.6696|          194400.0|\n",
            "|  -118.02|   34.08|              31.0|     2402.0|         632.0|    2830.0|     603.0|       2.3333|          164200.0|\n",
            "+---------+--------+------------------+-----------+--------------+----------+----------+-------------+------------------+\n",
            "only showing top 10 rows\n",
            "\n"
          ]
        }
      ]
    },
    {
      "cell_type": "code",
      "source": [
        "# Mostramos el Schema\n",
        "df.printSchema()"
      ],
      "metadata": {
        "colab": {
          "base_uri": "https://localhost:8080/"
        },
        "id": "gJ2rZGfT4QwZ",
        "outputId": "523cee84-e8d9-4fd6-80ab-51e51d40c1f6"
      },
      "execution_count": null,
      "outputs": [
        {
          "output_type": "stream",
          "name": "stdout",
          "text": [
            "root\n",
            " |-- longitude: double (nullable = true)\n",
            " |-- latitude: double (nullable = true)\n",
            " |-- housing_median_age: double (nullable = true)\n",
            " |-- total_rooms: double (nullable = true)\n",
            " |-- total_bedrooms: double (nullable = true)\n",
            " |-- population: double (nullable = true)\n",
            " |-- households: double (nullable = true)\n",
            " |-- median_income: double (nullable = true)\n",
            " |-- median_house_value: double (nullable = true)\n",
            "\n"
          ]
        }
      ]
    },
    {
      "cell_type": "code",
      "source": [
        "df_pandas = df.toPandas()\n",
        "df_pandas.info()"
      ],
      "metadata": {
        "colab": {
          "base_uri": "https://localhost:8080/"
        },
        "id": "8vL7CscF7AfO",
        "outputId": "043ba1c0-6c8a-488f-bf68-ec325dd76b0d"
      },
      "execution_count": null,
      "outputs": [
        {
          "output_type": "stream",
          "name": "stdout",
          "text": [
            "<class 'pandas.core.frame.DataFrame'>\n",
            "RangeIndex: 3000 entries, 0 to 2999\n",
            "Data columns (total 9 columns):\n",
            " #   Column              Non-Null Count  Dtype  \n",
            "---  ------              --------------  -----  \n",
            " 0   longitude           3000 non-null   float64\n",
            " 1   latitude            3000 non-null   float64\n",
            " 2   housing_median_age  3000 non-null   float64\n",
            " 3   total_rooms         3000 non-null   float64\n",
            " 4   total_bedrooms      3000 non-null   float64\n",
            " 5   population          3000 non-null   float64\n",
            " 6   households          3000 non-null   float64\n",
            " 7   median_income       3000 non-null   float64\n",
            " 8   median_house_value  3000 non-null   float64\n",
            "dtypes: float64(9)\n",
            "memory usage: 211.1 KB\n"
          ]
        }
      ]
    },
    {
      "cell_type": "code",
      "source": [
        "# Mostramos las columnas\n",
        "df.columns"
      ],
      "metadata": {
        "colab": {
          "base_uri": "https://localhost:8080/"
        },
        "id": "zDQ-ALNL4oR0",
        "outputId": "2f48a673-e495-4fa2-86f3-cc2dff04c43c"
      },
      "execution_count": null,
      "outputs": [
        {
          "output_type": "execute_result",
          "data": {
            "text/plain": [
              "['longitude',\n",
              " 'latitude',\n",
              " 'housing_median_age',\n",
              " 'total_rooms',\n",
              " 'total_bedrooms',\n",
              " 'population',\n",
              " 'households',\n",
              " 'median_income',\n",
              " 'median_house_value']"
            ]
          },
          "metadata": {},
          "execution_count": 8
        }
      ]
    },
    {
      "cell_type": "code",
      "source": [
        "# Descripción estadística del DataFrame\n",
        "df.describe().show()"
      ],
      "metadata": {
        "colab": {
          "base_uri": "https://localhost:8080/"
        },
        "id": "fHwUyjRW5AD-",
        "outputId": "7baf19f8-6bcd-46ea-e7aa-d2b3c5eaf9ec"
      },
      "execution_count": null,
      "outputs": [
        {
          "output_type": "stream",
          "name": "stdout",
          "text": [
            "+-------+-------------------+------------------+------------------+-----------------+------------------+------------------+------------------+------------------+------------------+\n",
            "|summary|          longitude|          latitude|housing_median_age|      total_rooms|    total_bedrooms|        population|        households|     median_income|median_house_value|\n",
            "+-------+-------------------+------------------+------------------+-----------------+------------------+------------------+------------------+------------------+------------------+\n",
            "|  count|               3000|              3000|              3000|             3000|              3000|              3000|              3000|              3000|              3000|\n",
            "|   mean|-119.58920000000029| 35.63538999999999|28.845333333333333|2599.578666666667| 529.9506666666666|1402.7986666666666|           489.912| 3.807271799999998|        205846.275|\n",
            "| stddev| 1.9949362939550166|2.1296695233438334|12.555395554955757|2155.593331625582|415.65436813632306|1030.5430124122424|365.42270980552615|1.8545117296914775|113119.68746964622|\n",
            "|    min|            -124.18|             32.56|               1.0|              6.0|               2.0|               5.0|               2.0|            0.4999|           22500.0|\n",
            "|    max|            -114.49|             41.92|              52.0|          30450.0|            5419.0|           11935.0|            4930.0|           15.0001|          500001.0|\n",
            "+-------+-------------------+------------------+------------------+-----------------+------------------+------------------+------------------+------------------+------------------+\n",
            "\n"
          ]
        }
      ]
    },
    {
      "cell_type": "code",
      "source": [
        "df.describe().toPandas()"
      ],
      "metadata": {
        "colab": {
          "base_uri": "https://localhost:8080/",
          "height": 270
        },
        "id": "Bv_HdBW4_27N",
        "outputId": "baa85316-b457-43e5-9262-e5559759877e"
      },
      "execution_count": null,
      "outputs": [
        {
          "output_type": "execute_result",
          "data": {
            "text/plain": [
              "  summary            longitude            latitude  housing_median_age  \\\n",
              "0   count                 3000                3000                3000   \n",
              "1    mean  -119.58920000000029   35.63538999999999  28.845333333333333   \n",
              "2  stddev   1.9949362939550166  2.1296695233438334  12.555395554955757   \n",
              "3     min              -124.18               32.56                 1.0   \n",
              "4     max              -114.49               41.92                52.0   \n",
              "\n",
              "         total_rooms      total_bedrooms          population  \\\n",
              "0               3000                3000                3000   \n",
              "1  2599.578666666667   529.9506666666666  1402.7986666666666   \n",
              "2  2155.593331625582  415.65436813632306  1030.5430124122424   \n",
              "3                6.0                 2.0                 5.0   \n",
              "4            30450.0              5419.0             11935.0   \n",
              "\n",
              "           households       median_income  median_house_value  \n",
              "0                3000                3000                3000  \n",
              "1             489.912   3.807271799999998          205846.275  \n",
              "2  365.42270980552615  1.8545117296914775  113119.68746964622  \n",
              "3                 2.0              0.4999             22500.0  \n",
              "4              4930.0             15.0001            500001.0  "
            ],
            "text/html": [
              "\n",
              "  <div id=\"df-211df237-a83c-4123-9a7d-e4e3d47b3096\">\n",
              "    <div class=\"colab-df-container\">\n",
              "      <div>\n",
              "<style scoped>\n",
              "    .dataframe tbody tr th:only-of-type {\n",
              "        vertical-align: middle;\n",
              "    }\n",
              "\n",
              "    .dataframe tbody tr th {\n",
              "        vertical-align: top;\n",
              "    }\n",
              "\n",
              "    .dataframe thead th {\n",
              "        text-align: right;\n",
              "    }\n",
              "</style>\n",
              "<table border=\"1\" class=\"dataframe\">\n",
              "  <thead>\n",
              "    <tr style=\"text-align: right;\">\n",
              "      <th></th>\n",
              "      <th>summary</th>\n",
              "      <th>longitude</th>\n",
              "      <th>latitude</th>\n",
              "      <th>housing_median_age</th>\n",
              "      <th>total_rooms</th>\n",
              "      <th>total_bedrooms</th>\n",
              "      <th>population</th>\n",
              "      <th>households</th>\n",
              "      <th>median_income</th>\n",
              "      <th>median_house_value</th>\n",
              "    </tr>\n",
              "  </thead>\n",
              "  <tbody>\n",
              "    <tr>\n",
              "      <th>0</th>\n",
              "      <td>count</td>\n",
              "      <td>3000</td>\n",
              "      <td>3000</td>\n",
              "      <td>3000</td>\n",
              "      <td>3000</td>\n",
              "      <td>3000</td>\n",
              "      <td>3000</td>\n",
              "      <td>3000</td>\n",
              "      <td>3000</td>\n",
              "      <td>3000</td>\n",
              "    </tr>\n",
              "    <tr>\n",
              "      <th>1</th>\n",
              "      <td>mean</td>\n",
              "      <td>-119.58920000000029</td>\n",
              "      <td>35.63538999999999</td>\n",
              "      <td>28.845333333333333</td>\n",
              "      <td>2599.578666666667</td>\n",
              "      <td>529.9506666666666</td>\n",
              "      <td>1402.7986666666666</td>\n",
              "      <td>489.912</td>\n",
              "      <td>3.807271799999998</td>\n",
              "      <td>205846.275</td>\n",
              "    </tr>\n",
              "    <tr>\n",
              "      <th>2</th>\n",
              "      <td>stddev</td>\n",
              "      <td>1.9949362939550166</td>\n",
              "      <td>2.1296695233438334</td>\n",
              "      <td>12.555395554955757</td>\n",
              "      <td>2155.593331625582</td>\n",
              "      <td>415.65436813632306</td>\n",
              "      <td>1030.5430124122424</td>\n",
              "      <td>365.42270980552615</td>\n",
              "      <td>1.8545117296914775</td>\n",
              "      <td>113119.68746964622</td>\n",
              "    </tr>\n",
              "    <tr>\n",
              "      <th>3</th>\n",
              "      <td>min</td>\n",
              "      <td>-124.18</td>\n",
              "      <td>32.56</td>\n",
              "      <td>1.0</td>\n",
              "      <td>6.0</td>\n",
              "      <td>2.0</td>\n",
              "      <td>5.0</td>\n",
              "      <td>2.0</td>\n",
              "      <td>0.4999</td>\n",
              "      <td>22500.0</td>\n",
              "    </tr>\n",
              "    <tr>\n",
              "      <th>4</th>\n",
              "      <td>max</td>\n",
              "      <td>-114.49</td>\n",
              "      <td>41.92</td>\n",
              "      <td>52.0</td>\n",
              "      <td>30450.0</td>\n",
              "      <td>5419.0</td>\n",
              "      <td>11935.0</td>\n",
              "      <td>4930.0</td>\n",
              "      <td>15.0001</td>\n",
              "      <td>500001.0</td>\n",
              "    </tr>\n",
              "  </tbody>\n",
              "</table>\n",
              "</div>\n",
              "      <button class=\"colab-df-convert\" onclick=\"convertToInteractive('df-211df237-a83c-4123-9a7d-e4e3d47b3096')\"\n",
              "              title=\"Convert this dataframe to an interactive table.\"\n",
              "              style=\"display:none;\">\n",
              "        \n",
              "  <svg xmlns=\"http://www.w3.org/2000/svg\" height=\"24px\"viewBox=\"0 0 24 24\"\n",
              "       width=\"24px\">\n",
              "    <path d=\"M0 0h24v24H0V0z\" fill=\"none\"/>\n",
              "    <path d=\"M18.56 5.44l.94 2.06.94-2.06 2.06-.94-2.06-.94-.94-2.06-.94 2.06-2.06.94zm-11 1L8.5 8.5l.94-2.06 2.06-.94-2.06-.94L8.5 2.5l-.94 2.06-2.06.94zm10 10l.94 2.06.94-2.06 2.06-.94-2.06-.94-.94-2.06-.94 2.06-2.06.94z\"/><path d=\"M17.41 7.96l-1.37-1.37c-.4-.4-.92-.59-1.43-.59-.52 0-1.04.2-1.43.59L10.3 9.45l-7.72 7.72c-.78.78-.78 2.05 0 2.83L4 21.41c.39.39.9.59 1.41.59.51 0 1.02-.2 1.41-.59l7.78-7.78 2.81-2.81c.8-.78.8-2.07 0-2.86zM5.41 20L4 18.59l7.72-7.72 1.47 1.35L5.41 20z\"/>\n",
              "  </svg>\n",
              "      </button>\n",
              "      \n",
              "  <style>\n",
              "    .colab-df-container {\n",
              "      display:flex;\n",
              "      flex-wrap:wrap;\n",
              "      gap: 12px;\n",
              "    }\n",
              "\n",
              "    .colab-df-convert {\n",
              "      background-color: #E8F0FE;\n",
              "      border: none;\n",
              "      border-radius: 50%;\n",
              "      cursor: pointer;\n",
              "      display: none;\n",
              "      fill: #1967D2;\n",
              "      height: 32px;\n",
              "      padding: 0 0 0 0;\n",
              "      width: 32px;\n",
              "    }\n",
              "\n",
              "    .colab-df-convert:hover {\n",
              "      background-color: #E2EBFA;\n",
              "      box-shadow: 0px 1px 2px rgba(60, 64, 67, 0.3), 0px 1px 3px 1px rgba(60, 64, 67, 0.15);\n",
              "      fill: #174EA6;\n",
              "    }\n",
              "\n",
              "    [theme=dark] .colab-df-convert {\n",
              "      background-color: #3B4455;\n",
              "      fill: #D2E3FC;\n",
              "    }\n",
              "\n",
              "    [theme=dark] .colab-df-convert:hover {\n",
              "      background-color: #434B5C;\n",
              "      box-shadow: 0px 1px 3px 1px rgba(0, 0, 0, 0.15);\n",
              "      filter: drop-shadow(0px 1px 2px rgba(0, 0, 0, 0.3));\n",
              "      fill: #FFFFFF;\n",
              "    }\n",
              "  </style>\n",
              "\n",
              "      <script>\n",
              "        const buttonEl =\n",
              "          document.querySelector('#df-211df237-a83c-4123-9a7d-e4e3d47b3096 button.colab-df-convert');\n",
              "        buttonEl.style.display =\n",
              "          google.colab.kernel.accessAllowed ? 'block' : 'none';\n",
              "\n",
              "        async function convertToInteractive(key) {\n",
              "          const element = document.querySelector('#df-211df237-a83c-4123-9a7d-e4e3d47b3096');\n",
              "          const dataTable =\n",
              "            await google.colab.kernel.invokeFunction('convertToInteractive',\n",
              "                                                     [key], {});\n",
              "          if (!dataTable) return;\n",
              "\n",
              "          const docLinkHtml = 'Like what you see? Visit the ' +\n",
              "            '<a target=\"_blank\" href=https://colab.research.google.com/notebooks/data_table.ipynb>data table notebook</a>'\n",
              "            + ' to learn more about interactive tables.';\n",
              "          element.innerHTML = '';\n",
              "          dataTable['output_type'] = 'display_data';\n",
              "          await google.colab.output.renderOutput(dataTable, element);\n",
              "          const docLink = document.createElement('div');\n",
              "          docLink.innerHTML = docLinkHtml;\n",
              "          element.appendChild(docLink);\n",
              "        }\n",
              "      </script>\n",
              "    </div>\n",
              "  </div>\n",
              "  "
            ]
          },
          "metadata": {},
          "execution_count": 10
        }
      ]
    },
    {
      "cell_type": "code",
      "source": [
        "# Descripción de campos a elección\n",
        "df.describe(['total_rooms']).show()"
      ],
      "metadata": {
        "colab": {
          "base_uri": "https://localhost:8080/"
        },
        "id": "489ln1lI5PFG",
        "outputId": "564556b2-e23a-4df5-9931-189d8e162249"
      },
      "execution_count": null,
      "outputs": [
        {
          "output_type": "stream",
          "name": "stdout",
          "text": [
            "+-------+-----------------+\n",
            "|summary|      total_rooms|\n",
            "+-------+-----------------+\n",
            "|  count|             3000|\n",
            "|   mean|2599.578666666667|\n",
            "| stddev|2155.593331625582|\n",
            "|    min|              6.0|\n",
            "|    max|          30450.0|\n",
            "+-------+-----------------+\n",
            "\n"
          ]
        }
      ]
    },
    {
      "cell_type": "markdown",
      "source": [
        "## Select\n",
        "\n",
        "Se pueden obtener campos concretos de un dataframe usando select, de forma similar a cómo obtenemos los campos de un dataframe de pandas usando el método select con la lista de campos como parámetro."
      ],
      "metadata": {
        "id": "W1SAEkh8G76F"
      }
    },
    {
      "cell_type": "code",
      "source": [
        "# Obtenemos los campos population y latitude del dataframe\n",
        "\n",
        "df.select(['population', 'latitude']).show()"
      ],
      "metadata": {
        "colab": {
          "base_uri": "https://localhost:8080/"
        },
        "id": "iN2QWRdPHIli",
        "outputId": "e7648bd6-3772-4208-efc9-70af7f97b68b"
      },
      "execution_count": null,
      "outputs": [
        {
          "output_type": "stream",
          "name": "stdout",
          "text": [
            "+----------+--------+\n",
            "|population|latitude|\n",
            "+----------+--------+\n",
            "|    1537.0|   37.37|\n",
            "|     809.0|   34.26|\n",
            "|    1484.0|   33.78|\n",
            "|      49.0|   33.82|\n",
            "|     850.0|   36.33|\n",
            "|     663.0|   36.51|\n",
            "|     604.0|   38.63|\n",
            "|    1341.0|   35.48|\n",
            "|    1446.0|    38.4|\n",
            "|    2830.0|   34.08|\n",
            "|    1288.0|   33.98|\n",
            "|     564.0|   35.85|\n",
            "|     535.0|   37.25|\n",
            "|    1935.0|   32.97|\n",
            "|    1217.0|   33.73|\n",
            "|     157.0|   33.81|\n",
            "|     189.0|   37.53|\n",
            "|    1603.0|   38.69|\n",
            "|     654.0|   34.21|\n",
            "|    3450.0|   38.01|\n",
            "+----------+--------+\n",
            "only showing top 20 rows\n",
            "\n"
          ]
        }
      ]
    },
    {
      "cell_type": "markdown",
      "source": [
        "## Filtrado de datos\n",
        "\n",
        "A continuación se muestra la aplicación del método filter en dataframes de spark."
      ],
      "metadata": {
        "id": "pKNjSe446bdz"
      }
    },
    {
      "cell_type": "code",
      "source": [
        "df.filter(df.population > 1000).count()"
      ],
      "metadata": {
        "colab": {
          "base_uri": "https://localhost:8080/"
        },
        "id": "rXsTggfB5wYK",
        "outputId": "918d99fa-89fa-4fa2-c541-4e75395b1b28"
      },
      "execution_count": null,
      "outputs": [
        {
          "output_type": "execute_result",
          "data": {
            "text/plain": [
              "1798"
            ]
          },
          "metadata": {},
          "execution_count": 13
        }
      ]
    },
    {
      "cell_type": "code",
      "source": [
        "df[df.population > 1000].count()"
      ],
      "metadata": {
        "colab": {
          "base_uri": "https://localhost:8080/"
        },
        "id": "D02hEaYFSP5_",
        "outputId": "55f10f3c-5d03-4a4a-e066-7a6487fa4b49"
      },
      "execution_count": null,
      "outputs": [
        {
          "output_type": "execute_result",
          "data": {
            "text/plain": [
              "1798"
            ]
          },
          "metadata": {},
          "execution_count": 16
        }
      ]
    },
    {
      "cell_type": "code",
      "source": [
        "# Aplicando un NOT con ~\n",
        "df.filter(~(df.latitude > 32.56)).show()"
      ],
      "metadata": {
        "colab": {
          "base_uri": "https://localhost:8080/"
        },
        "id": "xt4QZ2qz6UNF",
        "outputId": "a39ef150-7152-4e72-d29c-c8f584269eaf"
      },
      "execution_count": null,
      "outputs": [
        {
          "output_type": "stream",
          "name": "stdout",
          "text": [
            "+---------+--------+------------------+-----------+--------------+----------+----------+-------------+------------------+\n",
            "|longitude|latitude|housing_median_age|total_rooms|total_bedrooms|population|households|median_income|median_house_value|\n",
            "+---------+--------+------------------+-----------+--------------+----------+----------+-------------+------------------+\n",
            "|  -117.09|   32.56|               8.0|      864.0|         156.0|     626.0|     172.0|       4.8984|          151500.0|\n",
            "+---------+--------+------------------+-----------+--------------+----------+----------+-------------+------------------+\n",
            "\n"
          ]
        }
      ]
    },
    {
      "cell_type": "code",
      "source": [
        "# Filtrado de datos usando col de SQL\n",
        "\n",
        "from pyspark.sql.functions import col\n",
        "\n",
        "df.filter(~(col('latitude') > 32.56)).show()"
      ],
      "metadata": {
        "colab": {
          "base_uri": "https://localhost:8080/"
        },
        "id": "bb6HTZe--CQH",
        "outputId": "6ee04cf1-e256-4508-b6b2-b68408f3f7ca"
      },
      "execution_count": null,
      "outputs": [
        {
          "output_type": "stream",
          "name": "stdout",
          "text": [
            "+---------+--------+------------------+-----------+--------------+----------+----------+-------------+------------------+\n",
            "|longitude|latitude|housing_median_age|total_rooms|total_bedrooms|population|households|median_income|median_house_value|\n",
            "+---------+--------+------------------+-----------+--------------+----------+----------+-------------+------------------+\n",
            "|  -117.09|   32.56|               8.0|      864.0|         156.0|     626.0|     172.0|       4.8984|          151500.0|\n",
            "+---------+--------+------------------+-----------+--------------+----------+----------+-------------+------------------+\n",
            "\n"
          ]
        }
      ]
    },
    {
      "cell_type": "code",
      "source": [
        "# Filtrando datos usando expresiones SQL\n",
        "df.filter(\"latitude <= 32.56\").show()"
      ],
      "metadata": {
        "colab": {
          "base_uri": "https://localhost:8080/"
        },
        "id": "4mQahLx6-gUx",
        "outputId": "32f27b4a-fa21-4364-a0d2-9de7936d9f99"
      },
      "execution_count": null,
      "outputs": [
        {
          "output_type": "stream",
          "name": "stdout",
          "text": [
            "+---------+--------+------------------+-----------+--------------+----------+----------+-------------+------------------+\n",
            "|longitude|latitude|housing_median_age|total_rooms|total_bedrooms|population|households|median_income|median_house_value|\n",
            "+---------+--------+------------------+-----------+--------------+----------+----------+-------------+------------------+\n",
            "|  -117.09|   32.56|               8.0|      864.0|         156.0|     626.0|     172.0|       4.8984|          151500.0|\n",
            "+---------+--------+------------------+-----------+--------------+----------+----------+-------------+------------------+\n",
            "\n"
          ]
        }
      ]
    },
    {
      "cell_type": "code",
      "source": [
        "# Aplicación de un filtro con condiciones múltiples\n",
        "df.filter((df.latitude > 32.56) & (df.housing_median_age == 1.0)).show()"
      ],
      "metadata": {
        "colab": {
          "base_uri": "https://localhost:8080/"
        },
        "id": "P1mObAb2-0Kl",
        "outputId": "834b0d2b-d258-4038-d4cc-5a0d07d923ac"
      },
      "execution_count": null,
      "outputs": [
        {
          "output_type": "stream",
          "name": "stdout",
          "text": [
            "+---------+--------+------------------+-----------+--------------+----------+----------+-------------+------------------+\n",
            "|longitude|latitude|housing_median_age|total_rooms|total_bedrooms|population|households|median_income|median_house_value|\n",
            "+---------+--------+------------------+-----------+--------------+----------+----------+-------------+------------------+\n",
            "|  -117.95|   35.08|               1.0|       83.0|          15.0|      32.0|      15.0|        4.875|          141700.0|\n",
            "|  -116.95|   33.86|               1.0|        6.0|           2.0|       8.0|       2.0|        1.625|           55000.0|\n",
            "+---------+--------+------------------+-----------+--------------+----------+----------+-------------+------------------+\n",
            "\n"
          ]
        }
      ]
    },
    {
      "cell_type": "code",
      "source": [
        "# Filtros basados en listas\n",
        "\n",
        "l = [35.08, 33.86]\n",
        "\n",
        "df.filter(df.latitude.isin(l)).show()"
      ],
      "metadata": {
        "colab": {
          "base_uri": "https://localhost:8080/"
        },
        "id": "FhDHk0fG_NZv",
        "outputId": "be1a153c-dca0-41f3-c86e-0cfb1e75e1e9"
      },
      "execution_count": null,
      "outputs": [
        {
          "output_type": "stream",
          "name": "stdout",
          "text": [
            "+---------+--------+------------------+-----------+--------------+----------+----------+-------------+------------------+\n",
            "|longitude|latitude|housing_median_age|total_rooms|total_bedrooms|population|households|median_income|median_house_value|\n",
            "+---------+--------+------------------+-----------+--------------+----------+----------+-------------+------------------+\n",
            "|  -117.97|   33.86|              35.0|     1691.0|         367.0|    1265.0|     378.0|       3.5855|          174300.0|\n",
            "|  -118.38|   33.86|              24.0|     3124.0|         560.0|    1312.0|     542.0|       6.3021|          333800.0|\n",
            "|  -118.13|   33.86|              45.0|     1320.0|         256.0|     645.0|     256.0|          4.4|          209500.0|\n",
            "|  -117.95|   35.08|               1.0|       83.0|          15.0|      32.0|      15.0|        4.875|          141700.0|\n",
            "|  -118.38|   33.86|              12.0|     4235.0|         735.0|    1798.0|     683.0|       6.4242|          365500.0|\n",
            "|  -116.95|   33.86|               1.0|        6.0|           2.0|       8.0|       2.0|        1.625|           55000.0|\n",
            "|  -118.11|   33.86|              36.0|     2750.0|         487.0|    1386.0|     458.0|       4.9904|          221700.0|\n",
            "|  -117.95|   33.86|              35.0|     2478.0|         431.0|    1333.0|     427.0|       5.2099|          191400.0|\n",
            "|  -118.07|   33.86|              17.0|     3666.0|         562.0|    2104.0|     579.0|       5.6818|          338900.0|\n",
            "|  -117.94|   33.86|              36.0|     2824.0|         493.0|    1394.0|     507.0|       4.6477|          194700.0|\n",
            "|  -117.78|   33.86|              16.0|     3471.0|         708.0|    1769.0|     691.0|       4.1064|          246100.0|\n",
            "|  -118.18|   33.86|              43.0|     2752.0|         645.0|    1674.0|     614.0|       3.6719|          161300.0|\n",
            "|  -118.14|   33.86|              44.0|     1436.0|         257.0|     745.0|     233.0|        4.625|          213400.0|\n",
            "|  -118.11|   33.86|              33.0|     2389.0|         410.0|    1229.0|     393.0|       5.3889|          234900.0|\n",
            "|  -118.32|   33.86|              34.0|      495.0|          90.0|     269.0|      93.0|       6.4391|          252300.0|\n",
            "|  -117.94|   33.86|              35.0|     1235.0|         227.0|     875.0|     220.0|       4.6964|          183100.0|\n",
            "|  -117.93|   33.86|              35.0|      931.0|         181.0|     516.0|     174.0|       5.5867|          182500.0|\n",
            "+---------+--------+------------------+-----------+--------------+----------+----------+-------------+------------------+\n",
            "\n"
          ]
        }
      ]
    },
    {
      "cell_type": "code",
      "source": [
        "# Otros filtros\n",
        "\n",
        "df_json = spark.read.json('./sample_data/anscombe.json')\n",
        "df_json.show()"
      ],
      "metadata": {
        "colab": {
          "base_uri": "https://localhost:8080/"
        },
        "id": "msm7H9OUAeKw",
        "outputId": "052cef58-5432-43af-f0d5-a3034789f76b"
      },
      "execution_count": null,
      "outputs": [
        {
          "output_type": "stream",
          "name": "stdout",
          "text": [
            "+------+----+-----+---------------+\n",
            "|Series|   X|    Y|_corrupt_record|\n",
            "+------+----+-----+---------------+\n",
            "|  null|null| null|              [|\n",
            "|     I|10.0| 8.04|           null|\n",
            "|     I| 8.0| 6.95|           null|\n",
            "|     I|13.0| 7.58|           null|\n",
            "|     I| 9.0| 8.81|           null|\n",
            "|     I|11.0| 8.33|           null|\n",
            "|     I|14.0| 9.96|           null|\n",
            "|     I| 6.0| 7.24|           null|\n",
            "|     I| 4.0| 4.26|           null|\n",
            "|     I|12.0|10.84|           null|\n",
            "|     I| 7.0| 4.81|           null|\n",
            "|     I| 5.0| 5.68|           null|\n",
            "|    II|10.0| 9.14|           null|\n",
            "|    II| 8.0| 8.14|           null|\n",
            "|    II|13.0| 8.74|           null|\n",
            "|    II| 9.0| 8.77|           null|\n",
            "|    II|11.0| 9.26|           null|\n",
            "|    II|14.0|  8.1|           null|\n",
            "|    II| 6.0| 6.13|           null|\n",
            "|    II| 4.0|  3.1|           null|\n",
            "+------+----+-----+---------------+\n",
            "only showing top 20 rows\n",
            "\n"
          ]
        }
      ]
    },
    {
      "cell_type": "code",
      "source": [
        "df_json.printSchema()"
      ],
      "metadata": {
        "colab": {
          "base_uri": "https://localhost:8080/"
        },
        "id": "pyA74PrhBP6S",
        "outputId": "9adeaa28-134a-4620-e3c9-7dcd93489225"
      },
      "execution_count": null,
      "outputs": [
        {
          "output_type": "stream",
          "name": "stdout",
          "text": [
            "root\n",
            " |-- Series: string (nullable = true)\n",
            " |-- X: double (nullable = true)\n",
            " |-- Y: double (nullable = true)\n",
            " |-- _corrupt_record: string (nullable = true)\n",
            "\n"
          ]
        }
      ]
    },
    {
      "cell_type": "code",
      "source": [
        "df_json.filter(df_json.Series.startswith(\"I\")).show()"
      ],
      "metadata": {
        "colab": {
          "base_uri": "https://localhost:8080/"
        },
        "id": "NBKRVJx0BaD6",
        "outputId": "b949ea54-22f6-40b7-e974-3d852499fd12"
      },
      "execution_count": null,
      "outputs": [
        {
          "output_type": "stream",
          "name": "stdout",
          "text": [
            "+------+----+-----+---------------+\n",
            "|Series|   X|    Y|_corrupt_record|\n",
            "+------+----+-----+---------------+\n",
            "|     I|10.0| 8.04|           null|\n",
            "|     I| 8.0| 6.95|           null|\n",
            "|     I|13.0| 7.58|           null|\n",
            "|     I| 9.0| 8.81|           null|\n",
            "|     I|11.0| 8.33|           null|\n",
            "|     I|14.0| 9.96|           null|\n",
            "|     I| 6.0| 7.24|           null|\n",
            "|     I| 4.0| 4.26|           null|\n",
            "|     I|12.0|10.84|           null|\n",
            "|     I| 7.0| 4.81|           null|\n",
            "|     I| 5.0| 5.68|           null|\n",
            "|    II|10.0| 9.14|           null|\n",
            "|    II| 8.0| 8.14|           null|\n",
            "|    II|13.0| 8.74|           null|\n",
            "|    II| 9.0| 8.77|           null|\n",
            "|    II|11.0| 9.26|           null|\n",
            "|    II|14.0|  8.1|           null|\n",
            "|    II| 6.0| 6.13|           null|\n",
            "|    II| 4.0|  3.1|           null|\n",
            "|    II|12.0| 9.13|           null|\n",
            "+------+----+-----+---------------+\n",
            "only showing top 20 rows\n",
            "\n"
          ]
        }
      ]
    },
    {
      "cell_type": "code",
      "source": [
        "df_json.filter(df_json.Series.contains(\"II\")).show()"
      ],
      "metadata": {
        "colab": {
          "base_uri": "https://localhost:8080/"
        },
        "id": "PQHZyII1BoXg",
        "outputId": "13abe68b-194b-487d-f368-42072c6ec4b0"
      },
      "execution_count": null,
      "outputs": [
        {
          "output_type": "stream",
          "name": "stdout",
          "text": [
            "+------+----+-----+---------------+\n",
            "|Series|   X|    Y|_corrupt_record|\n",
            "+------+----+-----+---------------+\n",
            "|    II|10.0| 9.14|           null|\n",
            "|    II| 8.0| 8.14|           null|\n",
            "|    II|13.0| 8.74|           null|\n",
            "|    II| 9.0| 8.77|           null|\n",
            "|    II|11.0| 9.26|           null|\n",
            "|    II|14.0|  8.1|           null|\n",
            "|    II| 6.0| 6.13|           null|\n",
            "|    II| 4.0|  3.1|           null|\n",
            "|    II|12.0| 9.13|           null|\n",
            "|    II| 7.0| 7.26|           null|\n",
            "|    II| 5.0| 4.74|           null|\n",
            "|   III|10.0| 7.46|           null|\n",
            "|   III| 8.0| 6.77|           null|\n",
            "|   III|13.0|12.74|           null|\n",
            "|   III| 9.0| 7.11|           null|\n",
            "|   III|11.0| 7.81|           null|\n",
            "|   III|14.0| 8.84|           null|\n",
            "|   III| 6.0| 6.08|           null|\n",
            "|   III| 4.0| 5.39|           null|\n",
            "|   III|12.0| 8.15|           null|\n",
            "+------+----+-----+---------------+\n",
            "only showing top 20 rows\n",
            "\n"
          ]
        }
      ]
    },
    {
      "cell_type": "code",
      "source": [
        "df_json.select(df_json.Series).distinct().show()"
      ],
      "metadata": {
        "colab": {
          "base_uri": "https://localhost:8080/"
        },
        "id": "tZXf1VPxI1nq",
        "outputId": "0d493ac4-9a85-4680-824e-0ad04cb07172"
      },
      "execution_count": null,
      "outputs": [
        {
          "output_type": "stream",
          "name": "stdout",
          "text": [
            "+------+\n",
            "|Series|\n",
            "+------+\n",
            "|  null|\n",
            "|   III|\n",
            "|    IV|\n",
            "|    II|\n",
            "|     I|\n",
            "+------+\n",
            "\n"
          ]
        }
      ]
    },
    {
      "cell_type": "code",
      "source": [
        "df_filtered = df_json.filter(df_json.Series.like(\"%III%\"))\n",
        "df_filtered.show()"
      ],
      "metadata": {
        "colab": {
          "base_uri": "https://localhost:8080/"
        },
        "id": "7z0AQ2lHB9NZ",
        "outputId": "f92b82a5-42d1-4276-8629-8d206159509c"
      },
      "execution_count": null,
      "outputs": [
        {
          "output_type": "stream",
          "name": "stdout",
          "text": [
            "+------+----+-----+---------------+\n",
            "|Series|   X|    Y|_corrupt_record|\n",
            "+------+----+-----+---------------+\n",
            "|   III|10.0| 7.46|           null|\n",
            "|   III| 8.0| 6.77|           null|\n",
            "|   III|13.0|12.74|           null|\n",
            "|   III| 9.0| 7.11|           null|\n",
            "|   III|11.0| 7.81|           null|\n",
            "|   III|14.0| 8.84|           null|\n",
            "|   III| 6.0| 6.08|           null|\n",
            "|   III| 4.0| 5.39|           null|\n",
            "|   III|12.0| 8.15|           null|\n",
            "|   III| 7.0| 6.42|           null|\n",
            "|   III| 5.0| 5.73|           null|\n",
            "+------+----+-----+---------------+\n",
            "\n"
          ]
        }
      ]
    },
    {
      "cell_type": "markdown",
      "source": [
        "## Modos de escritura\n",
        "\n",
        "Existen los siguientes modos de escritura de datos:\n",
        "\n",
        "*   append: Append contents of this DataFrame to existing data.\n",
        "*   overwrite: Overwrite existing data.\n",
        "*   error or errorifexists: Throw an exception if data already exists.\n",
        "*   ignore: Silently ignore this operation if data already exists."
      ],
      "metadata": {
        "id": "x9GPilSCAaxa"
      }
    },
    {
      "cell_type": "code",
      "source": [
        "# Escritura en un csv. Se crea un directorio con todos los csv dentro.\n",
        "# De esta forma podemos dividir el cómputo de los ficheros entre todos los nodos del clúster.\n",
        "# Doc: https://spark.apache.org/docs/latest/api/python/reference/api/pyspark.sql.DataFrameWriter.mode.html\n",
        "\n",
        "df_filtered.write.mode('overwrite').csv('./sample_data/california_housing_filtered')"
      ],
      "metadata": {
        "id": "uI17vIjECXPV"
      },
      "execution_count": null,
      "outputs": []
    },
    {
      "cell_type": "code",
      "source": [
        "# Creación de una vista con la información del dataframe creado\n",
        "df.createOrReplaceTempView(\"california\")"
      ],
      "metadata": {
        "id": "M11ZYyYQDNc6"
      },
      "execution_count": null,
      "outputs": []
    },
    {
      "cell_type": "code",
      "source": [
        "df_rooms = spark.sql(\"select * from california where total_rooms > 2600\").show()#.filter((col(\"latitude\") > 38.0))\n",
        "#df_rooms.show()"
      ],
      "metadata": {
        "id": "sPWCJVgEJtxr",
        "colab": {
          "base_uri": "https://localhost:8080/"
        },
        "outputId": "64a74d3a-b1d8-49cd-b2e5-988fdd6c13a5"
      },
      "execution_count": null,
      "outputs": [
        {
          "output_type": "stream",
          "name": "stdout",
          "text": [
            "+---------+--------+------------------+-----------+--------------+----------+----------+-------------+------------------+\n",
            "|longitude|latitude|housing_median_age|total_rooms|total_bedrooms|population|households|median_income|median_house_value|\n",
            "+---------+--------+------------------+-----------+--------------+----------+----------+-------------+------------------+\n",
            "|  -122.05|   37.37|              27.0|     3885.0|         661.0|    1537.0|     606.0|       6.6085|          344700.0|\n",
            "|  -117.81|   33.78|              27.0|     3589.0|         507.0|    1484.0|     495.0|       5.7934|          270500.0|\n",
            "|  -122.84|    38.4|              15.0|     3080.0|         617.0|    1446.0|     599.0|       3.6696|          194400.0|\n",
            "|  -117.03|   32.97|              16.0|     3936.0|         694.0|    1935.0|     659.0|       4.5625|          231200.0|\n",
            "|   -121.2|   38.69|              26.0|     3077.0|         607.0|    1603.0|     595.0|       2.7174|          137500.0|\n",
            "|  -122.59|   38.01|              35.0|     8814.0|        1307.0|    3450.0|    1258.0|       6.1724|          414300.0|\n",
            "|  -118.16|   34.07|              47.0|     2994.0|         543.0|    1651.0|     561.0|       3.8644|          241500.0|\n",
            "|  -117.28|   33.28|              13.0|     6131.0|        1040.0|    4049.0|     940.0|       3.8156|          150700.0|\n",
            "|  -122.42|   37.76|              52.0|     3587.0|        1030.0|    2259.0|     979.0|       2.5403|          250000.0|\n",
            "|  -118.39|   33.99|              32.0|     2612.0|         418.0|    1030.0|     402.0|        6.603|          369200.0|\n",
            "|  -118.45|   34.07|              19.0|     4845.0|        1609.0|    3751.0|    1539.0|        1.583|          350000.0|\n",
            "|  -118.48|   34.01|              30.0|     3078.0|         954.0|    1561.0|     901.0|       3.4852|          425000.0|\n",
            "|  -121.13|   39.31|              17.0|     3442.0|         705.0|    1693.0|     619.0|       2.8102|          128900.0|\n",
            "|  -118.08|   34.55|               5.0|    16181.0|        2971.0|    8152.0|    2651.0|       4.5237|          141800.0|\n",
            "|  -118.11|    34.0|              33.0|     2886.0|         726.0|    2650.0|     728.0|        2.625|          178700.0|\n",
            "|  -119.01|   34.23|              11.0|     5785.0|        1035.0|    2760.0|     985.0|        4.693|          232200.0|\n",
            "|  -116.92|   32.77|              16.0|     2770.0|         406.0|    1269.0|     429.0|       6.6783|          275000.0|\n",
            "|  -117.24|   33.17|               4.0|     9998.0|        1874.0|    3925.0|    1672.0|       4.2826|          237500.0|\n",
            "|  -117.99|   33.78|              19.0|     7399.0|        1698.0|    3554.0|    1593.0|       3.1049|          173900.0|\n",
            "|  -120.99|    37.7|              14.0|     9849.0|        1887.0|    4356.0|    1780.0|       3.5877|          160900.0|\n",
            "+---------+--------+------------------+-----------+--------------+----------+----------+-------------+------------------+\n",
            "only showing top 20 rows\n",
            "\n"
          ]
        }
      ]
    },
    {
      "cell_type": "code",
      "source": [
        "df_rooms.filter(df_rooms.latitude > 38.0).show()"
      ],
      "metadata": {
        "colab": {
          "base_uri": "https://localhost:8080/"
        },
        "id": "RtiJ4U7XKCmk",
        "outputId": "e79cfbf6-bbe1-4897-dff6-38933e08a633"
      },
      "execution_count": null,
      "outputs": [
        {
          "output_type": "stream",
          "name": "stdout",
          "text": [
            "+---------+--------+------------------+-----------+--------------+----------+----------+-------------+------------------+\n",
            "|longitude|latitude|housing_median_age|total_rooms|total_bedrooms|population|households|median_income|median_house_value|\n",
            "+---------+--------+------------------+-----------+--------------+----------+----------+-------------+------------------+\n",
            "|  -122.84|    38.4|              15.0|     3080.0|         617.0|    1446.0|     599.0|       3.6696|          194400.0|\n",
            "|   -121.2|   38.69|              26.0|     3077.0|         607.0|    1603.0|     595.0|       2.7174|          137500.0|\n",
            "|  -122.59|   38.01|              35.0|     8814.0|        1307.0|    3450.0|    1258.0|       6.1724|          414300.0|\n",
            "|  -121.13|   39.31|              17.0|     3442.0|         705.0|    1693.0|     619.0|       2.8102|          128900.0|\n",
            "|  -121.42|   38.72|              10.0|     3054.0|         528.0|    1932.0|     510.0|       3.0903|           91900.0|\n",
            "|  -122.05|   38.26|              21.0|     7195.0|        1416.0|    3927.0|    1377.0|       3.0912|          126300.0|\n",
            "|  -121.19|   38.87|              20.0|     3118.0|         500.0|    1405.0|     519.0|          6.0|          209400.0|\n",
            "|  -121.31|   38.62|              31.0|     3114.0|         430.0|    1121.0|     456.0|        6.244|          240000.0|\n",
            "|  -121.51|   38.52|              30.0|     3236.0|         588.0|    1167.0|     569.0|       4.0972|          181400.0|\n",
            "|  -122.45|   40.46|              16.0|     2734.0|         501.0|    1413.0|     484.0|       2.8085|          105700.0|\n",
            "|  -121.64|   39.28|              25.0|     2857.0|         662.0|    2076.0|     685.0|       1.8095|           64100.0|\n",
            "|  -121.49|   38.51|              30.0|     3166.0|         607.0|    1857.0|     579.0|       3.1768|           79500.0|\n",
            "|  -122.58|   38.46|              15.0|     2936.0|         517.0|    1182.0|     501.0|       3.3981|          246900.0|\n",
            "|  -121.65|   38.03|              28.0|     3144.0|         694.0|    1095.0|     482.0|       3.4402|          192400.0|\n",
            "|  -121.62|   39.79|              11.0|     3835.0|         727.0|    1456.0|     658.0|       2.5374|           97200.0|\n",
            "|  -122.31|   38.01|              18.0|     4123.0|         874.0|    1895.0|     772.0|       3.2759|          195000.0|\n",
            "|  -121.74|   38.55|              33.0|     6861.0|        1820.0|    3717.0|    1767.0|       1.7311|          182600.0|\n",
            "|  -122.67|   38.44|              32.0|     3771.0|         741.0|    1786.0|     721.0|       3.2415|          172200.0|\n",
            "|  -119.99|   38.88|              17.0|     2807.0|         529.0|     675.0|     251.0|       2.7457|          107800.0|\n",
            "|  -122.69|   38.34|              23.0|     2846.0|         516.0|    1526.0|     492.0|        3.733|          163500.0|\n",
            "+---------+--------+------------------+-----------+--------------+----------+----------+-------------+------------------+\n",
            "only showing top 20 rows\n",
            "\n"
          ]
        }
      ]
    },
    {
      "cell_type": "markdown",
      "source": [
        "## Join en PySpark\n",
        "\n",
        "Para este caso crearemos dos dataframes:\n",
        "- Alumnos\n",
        "- Cursos\n",
        "\n",
        "Haremos join entre ambos dataframes.\n",
        "\n",
        "Documentación de join: https://spark.apache.org/docs/3.1.1/api/python/reference/api/pyspark.sql.DataFrame.join.html\n",
        "\n"
      ],
      "metadata": {
        "id": "o6F6YCIoZbTb"
      }
    },
    {
      "cell_type": "code",
      "source": [
        "alumnos = [(1,\"Antonio\",-1, 2018, 10,\"M\"), \\\n",
        "    (2,\"Pedro\",1, 2010, 20,\"M\"), \\\n",
        "    (3,\"María\",1, 2010, 10,\"F\"), \\\n",
        "    (4,\"Luis\",2, 2005, 10,\"M\"), \\\n",
        "    (5,\"Lucía\",2, 2010, 40,\"F\"), \\\n",
        "      (6,\"Alberto\",2, 2010, 50,\"M\") \\\n",
        "  ]\n",
        "\n",
        "aluColumns = [\"alu_id\",\"name\",\"tutor_id\",\"anio_joined\", \\\n",
        "       \"alu_curso_id\",\"gender\"]\n",
        "\n",
        "aluDF = spark.createDataFrame(data=alumnos, schema = aluColumns)\n",
        "aluDF.printSchema()\n",
        "aluDF.show(truncate=False)\n",
        "\n",
        "curso = [(\"DAM\",10), \\\n",
        "    (\"DAW\",20), \\\n",
        "    (\"ASIR\",30), \\\n",
        "    (\"BD\",40) \\\n",
        "  ]\n",
        "cursoColumns = [\"curso_name\",\"curso_id\"]\n",
        "\n",
        "cursoDF = spark.createDataFrame(data=curso, schema = cursoColumns)\n",
        "cursoDF.printSchema()\n",
        "cursoDF.show(truncate=False)"
      ],
      "metadata": {
        "colab": {
          "base_uri": "https://localhost:8080/"
        },
        "id": "ITfpksmSZazK",
        "outputId": "e90330c3-eb4e-4d0c-d5ca-244d1848671f"
      },
      "execution_count": null,
      "outputs": [
        {
          "output_type": "stream",
          "name": "stdout",
          "text": [
            "root\n",
            " |-- alu_id: long (nullable = true)\n",
            " |-- name: string (nullable = true)\n",
            " |-- tutor_id: long (nullable = true)\n",
            " |-- anio_joined: long (nullable = true)\n",
            " |-- alu_curso_id: long (nullable = true)\n",
            " |-- gender: string (nullable = true)\n",
            "\n",
            "+------+-------+--------+-----------+------------+------+\n",
            "|alu_id|name   |tutor_id|anio_joined|alu_curso_id|gender|\n",
            "+------+-------+--------+-----------+------------+------+\n",
            "|1     |Antonio|-1      |2018       |10          |M     |\n",
            "|2     |Pedro  |1       |2010       |20          |M     |\n",
            "|3     |María  |1       |2010       |10          |F     |\n",
            "|4     |Luis   |2       |2005       |10          |M     |\n",
            "|5     |Lucía  |2       |2010       |40          |F     |\n",
            "|6     |Alberto|2       |2010       |50          |M     |\n",
            "+------+-------+--------+-----------+------------+------+\n",
            "\n",
            "root\n",
            " |-- curso_name: string (nullable = true)\n",
            " |-- curso_id: long (nullable = true)\n",
            "\n",
            "+----------+--------+\n",
            "|curso_name|curso_id|\n",
            "+----------+--------+\n",
            "|DAM       |10      |\n",
            "|DAW       |20      |\n",
            "|ASIR      |30      |\n",
            "|BD        |40      |\n",
            "+----------+--------+\n",
            "\n"
          ]
        }
      ]
    },
    {
      "cell_type": "code",
      "source": [
        "# Inner join: modo por defecto en Spark\n",
        "\n",
        "aluDF.join(cursoDF, aluDF.alu_curso_id == cursoDF.curso_id, \"left\").show()"
      ],
      "metadata": {
        "colab": {
          "base_uri": "https://localhost:8080/"
        },
        "id": "jmSQoo7uano0",
        "outputId": "1f1ea186-b7e2-41a2-9455-691e4241e526"
      },
      "execution_count": null,
      "outputs": [
        {
          "output_type": "stream",
          "name": "stdout",
          "text": [
            "+------+-------+--------+-----------+------------+------+----------+--------+\n",
            "|alu_id|   name|tutor_id|anio_joined|alu_curso_id|gender|curso_name|curso_id|\n",
            "+------+-------+--------+-----------+------------+------+----------+--------+\n",
            "|     1|Antonio|      -1|       2018|          10|     M|       DAM|      10|\n",
            "|     3|  María|       1|       2010|          10|     F|       DAM|      10|\n",
            "|     2|  Pedro|       1|       2010|          20|     M|       DAW|      20|\n",
            "|     6|Alberto|       2|       2010|          50|     M|      null|    null|\n",
            "|     4|   Luis|       2|       2005|          10|     M|       DAM|      10|\n",
            "|     5|  Lucía|       2|       2010|          40|     F|        BD|      40|\n",
            "+------+-------+--------+-----------+------------+------+----------+--------+\n",
            "\n"
          ]
        }
      ]
    },
    {
      "cell_type": "markdown",
      "source": [
        "## Cacheo de dataframes\n",
        "\n",
        "Cuando se cachea un DataFrame en PySpark, los datos se almacenan en la memoria de los nodos del clúster en la que se está ejecutando la aplicación. Al almacenar los datos en la memoria, se puede acceder a ellos de manera más rápida que si se tuviera que volver a leer los datos del almacenamiento en disco en cada operación.\n",
        "\n",
        "El uso excesivo de la memoria caché puede ser perjudicial para el rendimiento de la aplicación. Si se almacenan demasiados datos en la memoria caché, puede afectar negativamente la memoria disponible para otras operaciones y, por lo tanto, disminuir el rendimiento general de la aplicación.\n",
        "\n",
        "https://sparkbyexamples.com/pyspark/pyspark-cache-explained/"
      ],
      "metadata": {
        "id": "5SkQgkSm9MoT"
      }
    },
    {
      "cell_type": "code",
      "source": [
        "from pyspark.sql.functions import col\n",
        "\n",
        "# Crear un DataFrame\n",
        "df = spark.range(10000).select(col(\"id\"), col(\"id\").alias(\"value\"))\n",
        "\n",
        "# Cachear el DataFrame\n",
        "df.cache()\n",
        "\n",
        "# Contar los elementos del DataFrame\n",
        "print(\"Elementos en el DataFrame: \", df.count())\n",
        "\n",
        "# Eliminar el DataFrame de la memoria caché\n",
        "df.unpersist()\n",
        "\n",
        "# Contar los elementos del DataFrame después de eliminarlo de la memoria caché\n",
        "print(\"Elementos en el DataFrame después de eliminarlo de la memoria caché: \", df.count())"
      ],
      "metadata": {
        "colab": {
          "base_uri": "https://localhost:8080/"
        },
        "id": "uLVCxHPl9LlG",
        "outputId": "611eaa6e-101a-4dbf-fa69-f8fff204846c"
      },
      "execution_count": null,
      "outputs": [
        {
          "output_type": "stream",
          "name": "stdout",
          "text": [
            "Elementos en el DataFrame:  10000\n",
            "Elementos en el DataFrame después de eliminarlo de la memoria caché:  10000\n"
          ]
        }
      ]
    }
  ]
}