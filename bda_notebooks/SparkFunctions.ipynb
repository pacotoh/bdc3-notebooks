{
  "cells": [
    {
      "cell_type": "markdown",
      "source": [
        "# Configuración inicial de PySpark"
      ],
      "metadata": {
        "id": "r99v_vd_DX9h"
      }
    },
    {
      "cell_type": "code",
      "execution_count": null,
      "metadata": {
        "id": "1kR9WFNEwyJs"
      },
      "outputs": [],
      "source": [
        "!pip install pyspark"
      ]
    },
    {
      "cell_type": "markdown",
      "source": [
        "# Creación de una nueva sesión spark"
      ],
      "metadata": {
        "id": "JvIK8Vs1DdKx"
      }
    },
    {
      "cell_type": "code",
      "execution_count": null,
      "metadata": {
        "id": "m5W7tNrow9bS"
      },
      "outputs": [],
      "source": [
        "from pyspark.sql import SparkSession\n",
        "from pyspark import SparkContext\n",
        "\n",
        "spark = SparkSession.builder.master('local[*]').appName('pyspark-test').getOrCreate()\n",
        "sc = SparkContext.getOrCreate()"
      ]
    },
    {
      "cell_type": "markdown",
      "source": [
        "# Lectura de datos California Housing\n",
        "\n",
        "En estos pasos leemos un csv en un dataframe y mostramos información básica como varias filas del dataframe y el schema inferido al cargar dichos datos."
      ],
      "metadata": {
        "id": "SPNk61OgDlF3"
      }
    },
    {
      "cell_type": "code",
      "execution_count": null,
      "metadata": {
        "id": "2D2_mZ0_xb9C"
      },
      "outputs": [],
      "source": [
        "df = spark.read.csv('sample_data/california_housing_train.csv', inferSchema = True, header = True)"
      ]
    },
    {
      "cell_type": "code",
      "execution_count": null,
      "metadata": {
        "id": "KtmzCdP_xxe9"
      },
      "outputs": [],
      "source": [
        "df.show(5)"
      ]
    },
    {
      "cell_type": "code",
      "execution_count": null,
      "metadata": {
        "id": "pvwvnVQMxmPN"
      },
      "outputs": [],
      "source": [
        "df.printSchema()"
      ]
    },
    {
      "cell_type": "markdown",
      "source": [
        "# Uso de Select"
      ],
      "metadata": {
        "id": "UdcPn7iI9DW9"
      }
    },
    {
      "cell_type": "code",
      "source": [
        "df.select('population', 'median_income').show(2)"
      ],
      "metadata": {
        "id": "0E1ZCIbt9GYs"
      },
      "execution_count": null,
      "outputs": []
    },
    {
      "cell_type": "markdown",
      "source": [
        "# Uso de Filter"
      ],
      "metadata": {
        "id": "s-Vi24w9D77-"
      }
    },
    {
      "cell_type": "code",
      "execution_count": null,
      "metadata": {
        "id": "QEyqX51oAkp6"
      },
      "outputs": [],
      "source": [
        "# Uso con formato cadena\n",
        "df.filter('population > 1000').show()"
      ]
    },
    {
      "cell_type": "code",
      "source": [
        "# Uso mediante atributos del dataframe\n"
      ],
      "metadata": {
        "id": "rF6sXHDj8gjb"
      },
      "execution_count": null,
      "outputs": []
    },
    {
      "cell_type": "code",
      "source": [
        "# Uso de filtros compuestos con formato cadena\n"
      ],
      "metadata": {
        "id": "9nSN8hJu9g_5"
      },
      "execution_count": null,
      "outputs": []
    },
    {
      "cell_type": "code",
      "source": [
        "# Uso de filtros compuestos mediante atributos del dataframe\n"
      ],
      "metadata": {
        "id": "C3lfIpKw9vZj"
      },
      "execution_count": null,
      "outputs": []
    },
    {
      "cell_type": "markdown",
      "source": [
        "# Añadir columnas"
      ],
      "metadata": {
        "id": "zMXwyZq8-PsE"
      }
    },
    {
      "cell_type": "code",
      "source": [
        "df.withColumn('latitude_longitude', df.latitude * df.longitude).show()"
      ],
      "metadata": {
        "id": "4_BfRJvH-T-l"
      },
      "execution_count": null,
      "outputs": []
    },
    {
      "cell_type": "code",
      "source": [
        "df_ll = df.withColumnRenamed('longitude', 'long').withColumnRenamed('latitude', 'lat')"
      ],
      "metadata": {
        "id": "k1mv7tJ9APRl"
      },
      "execution_count": null,
      "outputs": []
    },
    {
      "cell_type": "markdown",
      "source": [
        "# Funciones SQL\n",
        "En esta sección aplicamos varias funciones a las columnas del dataframe utilizando agg para crear una agregación de columnas."
      ],
      "metadata": {
        "id": "GWDcH1Kg-w60"
      }
    },
    {
      "cell_type": "code",
      "execution_count": null,
      "metadata": {
        "colab": {
          "base_uri": "https://localhost:8080/"
        },
        "id": "oFQE_B7Wx5As",
        "outputId": "26cc6a37-1e10-4c90-8c30-1800b7065814"
      },
      "outputs": [
        {
          "output_type": "stream",
          "name": "stdout",
          "text": [
            "+-----------------------+-----------------------+\n",
            "|sum(median_house_value)|avg(median_house_value)|\n",
            "+-----------------------+-----------------------+\n",
            "|           3.52411551E9|     207300.91235294117|\n",
            "+-----------------------+-----------------------+\n",
            "\n"
          ]
        }
      ],
      "source": [
        "from pyspark.sql.functions import sum, avg\n",
        "\n",
        "df.agg(sum('median_house_value'), avg('median_house_value')).show()"
      ]
    },
    {
      "cell_type": "code",
      "execution_count": null,
      "metadata": {
        "colab": {
          "base_uri": "https://localhost:8080/"
        },
        "id": "2c6GnD98yrOz",
        "outputId": "08d9c610-1ac8-4ad7-e03c-909f46be8e0e"
      },
      "outputs": [
        {
          "output_type": "stream",
          "name": "stdout",
          "text": [
            "+-------------------------+\n",
            "|count(housing_median_age)|\n",
            "+-------------------------+\n",
            "|                    17000|\n",
            "+-------------------------+\n",
            "\n"
          ]
        }
      ],
      "source": [
        "from pyspark.sql.functions import count\n",
        "\n",
        "df.agg(count('housing_median_age')).show()"
      ]
    },
    {
      "cell_type": "code",
      "execution_count": null,
      "metadata": {
        "colab": {
          "base_uri": "https://localhost:8080/"
        },
        "id": "DVLOApp8yPJY",
        "outputId": "32a7a292-6fee-4bbc-bbf2-f86c3f19dc2e"
      },
      "outputs": [
        {
          "output_type": "stream",
          "name": "stdout",
          "text": [
            "+-------------------------+\n",
            "|count(housing_median_age)|\n",
            "+-------------------------+\n",
            "|                       52|\n",
            "+-------------------------+\n",
            "\n"
          ]
        }
      ],
      "source": [
        "from pyspark.sql.functions import countDistinct\n",
        "\n",
        "df.agg(countDistinct('housing_median_age')).show()"
      ]
    },
    {
      "cell_type": "code",
      "execution_count": null,
      "metadata": {
        "colab": {
          "base_uri": "https://localhost:8080/"
        },
        "id": "-rn-OKiry0sf",
        "outputId": "818c4212-1c43-43ca-ce6f-c37986bcc162"
      },
      "outputs": [
        {
          "output_type": "stream",
          "name": "stdout",
          "text": [
            "+----------------------------------------------------------+\n",
            "|sum(CASE WHEN (housing_median_age > 15) THEN 1 ELSE 0 END)|\n",
            "+----------------------------------------------------------+\n",
            "|                                                     14275|\n",
            "+----------------------------------------------------------+\n",
            "\n"
          ]
        }
      ],
      "source": [
        "from pyspark.sql.functions import sum, when\n",
        "\n",
        "df.agg(sum(when(df['housing_median_age'] > 15, 1).otherwise(0))).show()"
      ]
    },
    {
      "cell_type": "code",
      "execution_count": null,
      "metadata": {
        "colab": {
          "base_uri": "https://localhost:8080/"
        },
        "id": "oJKuzNVI1Hwq",
        "outputId": "407e9404-10ac-4ba5-f60c-b66be36a1f8c"
      },
      "outputs": [
        {
          "output_type": "stream",
          "name": "stdout",
          "text": [
            "+-------------------------------------------------------------+\n",
            "|sum(CASE WHEN (population > 1000) THEN population ELSE 0 END)|\n",
            "+-------------------------------------------------------------+\n",
            "|                                                     227602.0|\n",
            "+-------------------------------------------------------------+\n",
            "\n"
          ]
        }
      ],
      "source": [
        "df.filter(df.latitude > 40).agg(sum(when(df['population'] > 1000, df.population).otherwise(0))).show()"
      ]
    },
    {
      "cell_type": "code",
      "execution_count": null,
      "metadata": {
        "colab": {
          "base_uri": "https://localhost:8080/"
        },
        "id": "zgihrBzo4Wve",
        "outputId": "ec21cea1-9c47-415a-b581-ccf9317b8d0b"
      },
      "outputs": [
        {
          "output_type": "stream",
          "name": "stdout",
          "text": [
            "+--------------+\n",
            "|sum_population|\n",
            "+--------------+\n",
            "|      227602.0|\n",
            "+--------------+\n",
            "\n"
          ]
        }
      ],
      "source": [
        "df.filter((df.latitude > 40) & (df.population > 1000)).agg(sum(df.population).alias('sum_population')).show()"
      ]
    },
    {
      "cell_type": "markdown",
      "source": [
        "# Creando vistas para trabajar con SQL sobre los datos de un dataframe\n"
      ],
      "metadata": {
        "id": "J5ztKzTVAuCB"
      }
    },
    {
      "cell_type": "code",
      "execution_count": null,
      "metadata": {
        "id": "jPSFJHGJ8E9x"
      },
      "outputs": [],
      "source": [
        "df.sort('housing_median_age').createOrReplaceTempView('hma_ordered')"
      ]
    },
    {
      "cell_type": "code",
      "execution_count": null,
      "metadata": {
        "colab": {
          "base_uri": "https://localhost:8080/"
        },
        "id": "d_Xx2PaY8ieD",
        "outputId": "eccdb25d-407e-4108-f42b-e40b438bce90"
      },
      "outputs": [
        {
          "output_type": "stream",
          "name": "stdout",
          "text": [
            "+---------+--------+------------------+-----------+--------------+----------+----------+-------------+------------------+\n",
            "|longitude|latitude|housing_median_age|total_rooms|total_bedrooms|population|households|median_income|median_house_value|\n",
            "+---------+--------+------------------+-----------+--------------+----------+----------+-------------+------------------+\n",
            "|  -120.93|   37.65|               1.0|     2254.0|         328.0|     402.0|     112.0|         4.25|          189200.0|\n",
            "|   -122.0|   38.23|               1.0|     2062.0|         343.0|     872.0|     268.0|       5.2636|          191300.0|\n",
            "|  -121.35|   38.46|               2.0|     6992.0|        1132.0|    2816.0|     984.0|       4.3879|          144400.0|\n",
            "|  -117.62|   33.64|               2.0|     7826.0|         893.0|    2985.0|     790.0|      10.1531|          484100.0|\n",
            "|  -117.61|   33.63|               2.0|     4678.0|         817.0|    1970.0|     712.0|       6.1078|          219000.0|\n",
            "|  -117.65|   33.58|               2.0|     2411.0|         354.0|     703.0|     217.0|       7.8061|          331400.0|\n",
            "|  -117.16|   33.57|               2.0|    20391.0|        3245.0|    7132.0|    2716.0|       3.9443|          187300.0|\n",
            "|  -117.68|   33.57|               2.0|    10008.0|        1453.0|    3550.0|    1139.0|      10.1122|          500001.0|\n",
            "|  -117.17|   33.66|               2.0|     7401.0|        1187.0|    2826.0|     839.0|       4.1386|          177300.0|\n",
            "|   -117.7|   33.56|               2.0|     2112.0|         305.0|     703.0|     261.0|       6.9343|          298500.0|\n",
            "|  -117.23|   33.83|               2.0|     1424.0|         251.0|     681.0|     192.0|       4.0833|          100000.0|\n",
            "|   -117.7|   33.51|               2.0|     5261.0|         763.0|    1460.0|     599.0|       6.8279|          279000.0|\n",
            "|  -117.26|   33.19|               2.0|     2629.0|         509.0|    1044.0|     522.0|       4.2361|          158500.0|\n",
            "|  -117.71|   33.58|               2.0|     2530.0|         562.0|    1066.0|     510.0|       4.6336|          187500.0|\n",
            "|  -117.28|   34.06|               2.0|     1658.0|         290.0|     868.0|     304.0|       5.1365|          136700.0|\n",
            "|  -117.76|   33.81|               2.0|      582.0|          70.0|     199.0|      64.0|       7.1193|          500001.0|\n",
            "|   -117.5|   34.12|               2.0|    11965.0|        1802.0|    4436.0|    1296.0|        5.285|          191700.0|\n",
            "|  -117.78|   33.97|               2.0|      556.0|          63.0|     179.0|      54.0|       8.4411|          500001.0|\n",
            "|  -117.58|    34.0|               2.0|     7544.0|        1516.0|    2801.0|    1001.0|       4.0037|          245200.0|\n",
            "|  -118.01|   34.55|               2.0|     2701.0|         530.0|    1368.0|     430.0|        4.071|          137400.0|\n",
            "+---------+--------+------------------+-----------+--------------+----------+----------+-------------+------------------+\n",
            "only showing top 20 rows\n",
            "\n"
          ]
        }
      ],
      "source": [
        "spark.sql('select * from hma_ordered').show()"
      ]
    },
    {
      "cell_type": "code",
      "execution_count": null,
      "metadata": {
        "id": "io5QtXrb86Zm"
      },
      "outputs": [],
      "source": [
        "from pyspark.sql.functions import col\n",
        "df.sort(col('households').desc()).createOrReplaceTempView('hh_order_desc')"
      ]
    },
    {
      "cell_type": "code",
      "execution_count": null,
      "metadata": {
        "colab": {
          "base_uri": "https://localhost:8080/"
        },
        "id": "JwqM4YKS9weY",
        "outputId": "2c540ca1-ae65-498a-fe8a-81a86c9732f5"
      },
      "outputs": [
        {
          "output_type": "stream",
          "name": "stdout",
          "text": [
            "+----------------+\n",
            "|count(longitude)|\n",
            "+----------------+\n",
            "|           17000|\n",
            "+----------------+\n",
            "\n"
          ]
        }
      ],
      "source": [
        "spark.sql('select count(longitude) from hh_order_desc').show()"
      ]
    },
    {
      "cell_type": "code",
      "execution_count": null,
      "metadata": {
        "colab": {
          "base_uri": "https://localhost:8080/"
        },
        "id": "seV3tRkq9WOk",
        "outputId": "c172535d-4b46-418f-d478-636cae1497fe"
      },
      "outputs": [
        {
          "output_type": "execute_result",
          "data": {
            "text/plain": [
              "1576"
            ]
          },
          "metadata": {},
          "execution_count": 35
        }
      ],
      "source": [
        "spark.sql('select longitude from hh_order_desc where total_bedrooms > 1000').count()"
      ]
    },
    {
      "cell_type": "code",
      "source": [
        "spark.sql('select count(longitude) from hh_order_desc where total_bedrooms > 1000').show()"
      ],
      "metadata": {
        "colab": {
          "base_uri": "https://localhost:8080/"
        },
        "id": "N-CXsLtKBMwC",
        "outputId": "3053ab02-87d0-4d37-8445-8b507ae755c1"
      },
      "execution_count": null,
      "outputs": [
        {
          "output_type": "stream",
          "name": "stdout",
          "text": [
            "+----------------+\n",
            "|count(longitude)|\n",
            "+----------------+\n",
            "|            1576|\n",
            "+----------------+\n",
            "\n"
          ]
        }
      ]
    },
    {
      "cell_type": "code",
      "execution_count": null,
      "metadata": {
        "colab": {
          "base_uri": "https://localhost:8080/"
        },
        "id": "1cYTRKUs99BT",
        "outputId": "9f2ffb87-ebc3-4dab-ed31-aaf68f85aa3b"
      },
      "outputs": [
        {
          "output_type": "stream",
          "name": "stdout",
          "text": [
            "+-------------+--------------+\n",
            "|sum(latitude)|avg(longitude)|\n",
            "+-------------+--------------+\n",
            "|         null|          null|\n",
            "+-------------+--------------+\n",
            "\n"
          ]
        }
      ],
      "source": [
        "df.select('longitude', 'latitude').filter(df.longitude > 33).agg(sum(df.latitude), avg(df.longitude)).show()"
      ]
    },
    {
      "cell_type": "code",
      "execution_count": null,
      "metadata": {
        "id": "rfzIabg0-2w-"
      },
      "outputs": [],
      "source": [
        "df_bmi = df.withColumn('big_median_income', df.median_income > 5.2636).filter(col('big_median_income'))"
      ]
    },
    {
      "cell_type": "code",
      "execution_count": null,
      "metadata": {
        "colab": {
          "base_uri": "https://localhost:8080/"
        },
        "id": "hzzpA2LN_ZYt",
        "outputId": "105357cb-c63d-41c4-ca38-ef18a9352495"
      },
      "outputs": [
        {
          "output_type": "stream",
          "name": "stdout",
          "text": [
            "+--------------------------------------------------+\n",
            "|sum(CASE WHEN big_median_income THEN 1 ELSE 0 END)|\n",
            "+--------------------------------------------------+\n",
            "|                                              3105|\n",
            "+--------------------------------------------------+\n",
            "\n"
          ]
        }
      ],
      "source": [
        "df_bmi.agg(sum(when(df_bmi.big_median_income, 1).otherwise(0))).show()"
      ]
    },
    {
      "cell_type": "code",
      "execution_count": null,
      "metadata": {
        "colab": {
          "base_uri": "https://localhost:8080/"
        },
        "id": "fDqqbMTakL9X",
        "outputId": "c7f8be9c-55d2-4778-f16b-3431d8d4b1a7"
      },
      "outputs": [
        {
          "output_type": "stream",
          "name": "stdout",
          "text": [
            "+-----------------+\n",
            "|     sum_latitude|\n",
            "+-----------------+\n",
            "|139155.3799999997|\n",
            "+-----------------+\n",
            "\n"
          ]
        }
      ],
      "source": [
        "df.filter((df.latitude > 33) & (df.latitude <= 34)).agg(sum(df.latitude).alias('sum_latitude')).show()"
      ]
    },
    {
      "cell_type": "code",
      "execution_count": null,
      "metadata": {
        "colab": {
          "base_uri": "https://localhost:8080/"
        },
        "id": "uOIX5ke_ktRv",
        "outputId": "5317bc7b-7095-4cdc-9f03-c872ae3100f1"
      },
      "outputs": [
        {
          "name": "stdout",
          "output_type": "stream",
          "text": [
            "+-----------------+-----------------+\n",
            "|    sum(latitude)|   avg(longitude)|\n",
            "+-----------------+-----------------+\n",
            "|139155.3799999997|-117.875031553398|\n",
            "+-----------------+-----------------+\n",
            "\n"
          ]
        }
      ],
      "source": [
        "df.filter('latitude > 33 and latitude <= 34').agg(sum(df.latitude), avg(df.longitude)).show()"
      ]
    },
    {
      "cell_type": "code",
      "execution_count": null,
      "metadata": {
        "colab": {
          "base_uri": "https://localhost:8080/"
        },
        "id": "W0ktfMtFZZg5",
        "outputId": "a2e467b8-bfe4-4d4a-a57a-97c3f9b9069f"
      },
      "outputs": [
        {
          "name": "stdout",
          "output_type": "stream",
          "text": [
            "+----------------+-----------------+\n",
            "|   avg(latitude)|    sum(latitude)|\n",
            "+----------------+-----------------+\n",
            "|35.6252247058827|605628.8200000059|\n",
            "+----------------+-----------------+\n",
            "\n"
          ]
        }
      ],
      "source": [
        "from pyspark.sql.functions import avg, sum\n",
        "\n",
        "df.agg(avg(df.latitude), sum(df.latitude)).show()"
      ]
    },
    {
      "cell_type": "code",
      "source": [
        "df_ratings = spark.read.csv('/content/drive/MyDrive/CursoBigData/BigDataAplicado/movies/ratings_small.csv', inferSchema = True, header = True)"
      ],
      "metadata": {
        "id": "-RkiFLW7EJiT"
      },
      "execution_count": null,
      "outputs": []
    },
    {
      "cell_type": "code",
      "source": [
        "df_ratings.show(10)"
      ],
      "metadata": {
        "colab": {
          "base_uri": "https://localhost:8080/"
        },
        "id": "e-NuF9X-EXHQ",
        "outputId": "aab17c92-3126-4c45-d28b-75a57fdb5b72"
      },
      "execution_count": null,
      "outputs": [
        {
          "output_type": "stream",
          "name": "stdout",
          "text": [
            "+------+-------+------+----------+\n",
            "|userId|movieId|rating| timestamp|\n",
            "+------+-------+------+----------+\n",
            "|     1|     31|   2.5|1260759144|\n",
            "|     1|   1029|   3.0|1260759179|\n",
            "|     1|   1061|   3.0|1260759182|\n",
            "|     1|   1129|   2.0|1260759185|\n",
            "|     1|   1172|   4.0|1260759205|\n",
            "|     1|   1263|   2.0|1260759151|\n",
            "|     1|   1287|   2.0|1260759187|\n",
            "|     1|   1293|   2.0|1260759148|\n",
            "|     1|   1339|   3.5|1260759125|\n",
            "|     1|   1343|   2.0|1260759131|\n",
            "+------+-------+------+----------+\n",
            "only showing top 10 rows\n",
            "\n"
          ]
        }
      ]
    },
    {
      "cell_type": "code",
      "source": [
        "df_metadata = spark.read.csv('/content/drive/MyDrive/CursoBigData/BigDataAplicado/movies/movies_metadata.csv', inferSchema = True, header = True)"
      ],
      "metadata": {
        "id": "N8-8YooSFulH"
      },
      "execution_count": null,
      "outputs": []
    },
    {
      "cell_type": "code",
      "source": [
        "df_metadata.show(2)"
      ],
      "metadata": {
        "colab": {
          "base_uri": "https://localhost:8080/"
        },
        "id": "2ZFum_d0FyAC",
        "outputId": "a6d625b4-ef68-480b-b429-48f89cd7d988"
      },
      "execution_count": null,
      "outputs": [
        {
          "output_type": "stream",
          "name": "stdout",
          "text": [
            "+-----+---------------------+--------+--------------------+--------------------+----+---------+-----------------+--------------+--------------------+----------+--------------------+--------------------+--------------------+------------+---------+-------+--------------------+--------+--------------------+---------+-----+------------+----------+\n",
            "|adult|belongs_to_collection|  budget|              genres|            homepage|  id|  imdb_id|original_language|original_title|            overview|popularity|         poster_path|production_companies|production_countries|release_date|  revenue|runtime|    spoken_languages|  status|             tagline|    title|video|vote_average|vote_count|\n",
            "+-----+---------------------+--------+--------------------+--------------------+----+---------+-----------------+--------------+--------------------+----------+--------------------+--------------------+--------------------+------------+---------+-------+--------------------+--------+--------------------+---------+-----+------------+----------+\n",
            "|False| {'id': 10194, 'na...|30000000|[{'id': 16, 'name...|http://toystory.d...| 862|tt0114709|               en|     Toy Story|Led by Woody, And...| 21.946943|/rhIRbceoE9lR4veE...|[{'name': 'Pixar ...|[{'iso_3166_1': '...|  1995-10-30|373554033|   81.0|[{'iso_639_1': 'e...|Released|                null|Toy Story|False|         7.7|      5415|\n",
            "|False|                 null|65000000|[{'id': 12, 'name...|                null|8844|tt0113497|               en|       Jumanji|When siblings Jud...| 17.015539|/vzmL6fP7aPKNKPRT...|[{'name': 'TriSta...|[{'iso_3166_1': '...|  1995-12-15|262797249|  104.0|[{'iso_639_1': 'e...|Released|Roll the dice and...|  Jumanji|False|         6.9|      2413|\n",
            "+-----+---------------------+--------+--------------------+--------------------+----+---------+-----------------+--------------+--------------------+----------+--------------------+--------------------+--------------------+------------+---------+-------+--------------------+--------+--------------------+---------+-----+------------+----------+\n",
            "only showing top 2 rows\n",
            "\n"
          ]
        }
      ]
    },
    {
      "cell_type": "code",
      "source": [
        "spark.sql('SELECT * FROM hh_order_desc').show()"
      ],
      "metadata": {
        "colab": {
          "base_uri": "https://localhost:8080/"
        },
        "id": "pEmGfseyN06p",
        "outputId": "c3e78bf7-40a5-4bfe-b124-662a7ad2689b"
      },
      "execution_count": null,
      "outputs": [
        {
          "output_type": "stream",
          "name": "stdout",
          "text": [
            "+---------+--------+------------------+-----------+--------------+----------+----------+-------------+------------------+\n",
            "|longitude|latitude|housing_median_age|total_rooms|total_bedrooms|population|households|median_income|median_house_value|\n",
            "+---------+--------+------------------+-----------+--------------+----------+----------+-------------+------------------+\n",
            "|  -121.79|   36.64|              11.0|    32627.0|        6445.0|   28566.0|    6082.0|       2.3087|          118800.0|\n",
            "|  -117.74|   33.89|               4.0|    37937.0|        5471.0|   16122.0|    5189.0|       7.4947|          366300.0|\n",
            "|  -117.78|   34.03|               8.0|    32054.0|        5290.0|   15507.0|    5050.0|       6.0191|          253900.0|\n",
            "|  -117.42|   33.35|              14.0|    25135.0|        4819.0|   35682.0|    4769.0|       2.5729|          134400.0|\n",
            "|  -117.34|   33.98|              10.0|    17286.0|        4952.0|    9851.0|    4616.0|       1.7579|          103400.0|\n",
            "|  -118.46|    34.4|              12.0|    25957.0|        4798.0|   10475.0|    4490.0|        4.542|          195300.0|\n",
            "|  -121.68|   36.72|              12.0|    19234.0|        4492.0|   12153.0|    4372.0|       3.2652|          152800.0|\n",
            "|  -117.12|   33.52|               4.0|    30401.0|        4957.0|   13251.0|    4339.0|       4.5841|          212300.0|\n",
            "|  -118.52|   34.17|              20.0|    17377.0|        4457.0|    7450.0|    4204.0|       3.2154|          259600.0|\n",
            "|  -117.87|   34.04|               7.0|    27700.0|        4179.0|   15037.0|    4072.0|       6.6288|          339700.0|\n",
            "|  -118.72|   34.14|               7.0|    23866.0|        4407.0|    9873.0|    4012.0|       5.4032|          318500.0|\n",
            "|   -118.1|   34.57|               7.0|    20377.0|        4335.0|   11973.0|    3933.0|       3.3086|          138100.0|\n",
            "|  -118.78|   34.16|               9.0|    30405.0|        4093.0|   12873.0|    3931.0|       8.0137|          399200.0|\n",
            "|  -118.43|   34.43|               5.0|    21113.0|        4386.0|    9842.0|    3886.0|       4.2037|          194600.0|\n",
            "|  -117.61|    34.1|               9.0|    18956.0|        4095.0|   10323.0|    3832.0|       3.6033|          132600.0|\n",
            "|  -118.55|   34.41|               8.0|    21086.0|        3945.0|    9936.0|    3790.0|       5.8602|          265100.0|\n",
            "|  -117.59|   34.13|              10.0|    20263.0|        3915.0|    9716.0|    3744.0|       3.8505|          169600.0|\n",
            "|  -121.92|   37.53|               7.0|    28258.0|        3864.0|   12203.0|    3701.0|       8.4045|          451100.0|\n",
            "|  -118.09|   34.68|               4.0|    23386.0|        4171.0|   10493.0|    3671.0|       4.0211|          144000.0|\n",
            "|  -118.43|   33.96|              16.0|    14891.0|        3984.0|    6270.0|    3595.0|       5.1064|          283200.0|\n",
            "+---------+--------+------------------+-----------+--------------+----------+----------+-------------+------------------+\n",
            "only showing top 20 rows\n",
            "\n"
          ]
        }
      ]
    }
  ],
  "metadata": {
    "colab": {
      "provenance": []
    },
    "kernelspec": {
      "display_name": "Python 3",
      "name": "python3"
    },
    "language_info": {
      "name": "python"
    }
  },
  "nbformat": 4,
  "nbformat_minor": 0
}